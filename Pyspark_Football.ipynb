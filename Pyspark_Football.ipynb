{
  "nbformat": 4,
  "nbformat_minor": 0,
  "metadata": {
    "colab": {
      "provenance": [],
      "authorship_tag": "ABX9TyN1m/KFvqORwumqVymmgNzS",
      "include_colab_link": true
    },
    "kernelspec": {
      "name": "python3",
      "display_name": "Python 3"
    },
    "language_info": {
      "name": "python"
    }
  },
  "cells": [
    {
      "cell_type": "markdown",
      "metadata": {
        "id": "view-in-github",
        "colab_type": "text"
      },
      "source": [
        "<a href=\"https://colab.research.google.com/github/AkashCreator/Pyspark/blob/main/Pyspark_Football.ipynb\" target=\"_parent\"><img src=\"https://colab.research.google.com/assets/colab-badge.svg\" alt=\"Open In Colab\"/></a>"
      ]
    },
    {
      "cell_type": "code",
      "execution_count": 2,
      "metadata": {
        "colab": {
          "base_uri": "https://localhost:8080/"
        },
        "id": "_dTzV5Z5hyi8",
        "outputId": "84950de0-17b6-441c-9c21-0d7aebbc81d5"
      },
      "outputs": [
        {
          "output_type": "stream",
          "name": "stdout",
          "text": [
            "Collecting pyspark\n",
            "  Downloading pyspark-3.4.1.tar.gz (310.8 MB)\n",
            "\u001b[2K     \u001b[90m━━━━━━━━━━━━━━━━━━━━━━━━━━━━━━━━━━━━━━━\u001b[0m \u001b[32m310.8/310.8 MB\u001b[0m \u001b[31m4.0 MB/s\u001b[0m eta \u001b[36m0:00:00\u001b[0m\n",
            "\u001b[?25h  Preparing metadata (setup.py) ... \u001b[?25l\u001b[?25hdone\n",
            "Requirement already satisfied: py4j==0.10.9.7 in /usr/local/lib/python3.10/dist-packages (from pyspark) (0.10.9.7)\n",
            "Building wheels for collected packages: pyspark\n",
            "  Building wheel for pyspark (setup.py) ... \u001b[?25l\u001b[?25hdone\n",
            "  Created wheel for pyspark: filename=pyspark-3.4.1-py2.py3-none-any.whl size=311285398 sha256=3d62bfe441e9f09e0d745f9be654b9f4d265350c58d803c4d6c126170393c8cf\n",
            "  Stored in directory: /root/.cache/pip/wheels/0d/77/a3/ff2f74cc9ab41f8f594dabf0579c2a7c6de920d584206e0834\n",
            "Successfully built pyspark\n",
            "Installing collected packages: pyspark\n",
            "Successfully installed pyspark-3.4.1\n"
          ]
        }
      ],
      "source": [
        "# install pyspark\n",
        "!pip install pyspark"
      ]
    },
    {
      "cell_type": "code",
      "source": [
        "# read dataset using Sparksession\n",
        "from pyspark.sql import SparkSession\n",
        "spark=SparkSession.builder.appName(\"football\").getOrCreate()"
      ],
      "metadata": {
        "id": "K-ZiSMVKiKGd"
      },
      "execution_count": 6,
      "outputs": []
    },
    {
      "cell_type": "code",
      "source": [
        "#display spark session\n",
        "spark"
      ],
      "metadata": {
        "colab": {
          "base_uri": "https://localhost:8080/",
          "height": 219
        },
        "id": "YM4LTkepjlZJ",
        "outputId": "875c11c6-33fa-41fb-e3a6-18b4718e3df2"
      },
      "execution_count": 7,
      "outputs": [
        {
          "output_type": "execute_result",
          "data": {
            "text/plain": [
              "<pyspark.sql.session.SparkSession at 0x7bec962ac790>"
            ],
            "text/html": [
              "\n",
              "            <div>\n",
              "                <p><b>SparkSession - in-memory</b></p>\n",
              "                \n",
              "        <div>\n",
              "            <p><b>SparkContext</b></p>\n",
              "\n",
              "            <p><a href=\"http://5a4dd2666b17:4040\">Spark UI</a></p>\n",
              "\n",
              "            <dl>\n",
              "              <dt>Version</dt>\n",
              "                <dd><code>v3.4.1</code></dd>\n",
              "              <dt>Master</dt>\n",
              "                <dd><code>local[*]</code></dd>\n",
              "              <dt>AppName</dt>\n",
              "                <dd><code>football</code></dd>\n",
              "            </dl>\n",
              "        </div>\n",
              "        \n",
              "            </div>\n",
              "        "
            ]
          },
          "metadata": {},
          "execution_count": 7
        }
      ]
    },
    {
      "cell_type": "code",
      "source": [
        "#read football main dataset and show stats\n",
        "full_data=spark.read.csv('./football_analysis/FullData.csv',header=True,inferSchema=True)\n",
        "full_data.describe().show()"
      ],
      "metadata": {
        "colab": {
          "base_uri": "https://localhost:8080/"
        },
        "id": "KO2xHH7-jyh-",
        "outputId": "9157faa0-c321-4119-cabf-784be793b988"
      },
      "execution_count": 20,
      "outputs": [
        {
          "output_type": "stream",
          "name": "stdout",
          "text": [
            "+-------+----------------+-----------+-----------------+-----------------+----------------+-------------+------------------+------------+------------------+-----------------+------+------+--------------+----------+------------------+------------------+---------------+------------------+------------------+------------------+------------------+-----------------+------------------+------------------+------------------+-----------------+------------------+-----------------+------------------+------------------+------------------+------------------+------------------+------------------+------------------+------------------+------------------+------------------+------------------+------------------+------------------+------------------+------------------+------------------+-----------------+------------------+------------------+-----------------+-----------------+-----------------+------------------+------------------+------------------+\n",
            "|summary|            Name|Nationality|National_Position|     National_Kit|            Club|Club_Position|          Club_Kit|Club_Joining|   Contract_Expiry|           Rating|Height|Weight|Preffered_Foot|Birth_Date|               Age|Preffered_Position|      Work_Rate|         Weak_foot|       Skill_Moves|      Ball_Control|         Dribbling|          Marking|    Sliding_Tackle|   Standing_Tackle|        Aggression|        Reactions|Attacking_Position|    Interceptions|            Vision|         Composure|          Crossing|        Short_Pass|         Long_Pass|      Acceleration|             Speed|           Stamina|          Strength|           Balance|           Agility|           Jumping|           Heading|        Shot_Power|         Finishing|        Long_Shots|            Curve| Freekick_Accuracy|         Penalties|          Volleys|   GK_Positioning|        GK_Diving|        GK_Kicking|       GK_Handling|       GK_Reflexes|\n",
            "+-------+----------------+-----------+-----------------+-----------------+----------------+-------------+------------------+------------+------------------+-----------------+------+------+--------------+----------+------------------+------------------+---------------+------------------+------------------+------------------+------------------+-----------------+------------------+------------------+------------------+-----------------+------------------+-----------------+------------------+------------------+------------------+------------------+------------------+------------------+------------------+------------------+------------------+------------------+------------------+------------------+------------------+------------------+------------------+------------------+-----------------+------------------+------------------+-----------------+-----------------+-----------------+------------------+------------------+------------------+\n",
            "|  count|           17588|      17588|             1075|             1075|           17588|        17587|             17587|       17587|             17587|            17588| 17588| 17588|         17588|     17588|             17588|             17588|          17588|             17588|             17588|             17588|             17588|            17588|             17588|             17588|             17588|            17588|             17588|            17588|             17588|             17588|             17588|             17588|             17588|             17588|             17588|             17588|             17588|             17588|             17588|             17588|             17588|             17588|             17588|             17588|            17588|             17588|             17588|            17588|            17588|            17588|             17588|             17588|             17588|\n",
            "|   mean|            null|       null|             null|12.21953488372093|            null|         null|21.294535736623644|        null|2018.8994143401376|66.16619285876735|  null|  null|          null|      null|25.460313850352513|              null|           null|2.9341027973618377|2.3031612463042985| 57.97276552194678| 54.80287696156471|44.23032749602002| 45.56549920400273| 47.44109620195588| 55.92017284512168|61.77058221514669|49.592051398680915|46.79406413463725|52.707869001591995| 55.85313850352513| 49.74107345917671| 58.11979758926541|52.396065499204006| 65.28786672731408| 65.48385262679099| 63.47691607914487| 65.08585399135774| 64.00881282692745| 63.20673186263361| 64.91852399363202| 52.39310893791221|55.581191721628386| 45.15760745963156| 47.40317261769388|47.18114623607005| 43.38344325676598| 49.16573800318399|43.27558562656357| 16.6096201955879|16.82306117807596|16.458323857175348|16.559813509210827|16.901182624516714|\n",
            "| stddev|            null|       null|             null|6.933186712887216|            null|         null|19.163740902120328|        null|1.6987874397242104|7.083011910808598|  null|  null|          null|      null| 4.680217413869141|              null|           null| 0.655926576488848|0.7461561335585832|16.834779141602063|18.913856927552217|21.56170286366945|21.515178683786196|21.827815177394776|17.445464371518423|9.275210372200354| 19.40708666246652|20.49471458129605| 14.58944611175663|13.485994404424476|18.457977316700244|14.982582307016756|15.616070556313117|14.436295831413878|14.100614851107773|15.477376758689475|12.532989073544742|13.720287806498058|14.618163324413052|11.430806830380547|17.473703194740338|17.600154972744576|19.374428000510303|19.211887239466655|18.46439603587325|17.701902992977164|15.871735042516146|17.71083867546305|17.13990350837133|17.79805177156695|16.600741103484737|16.967255592321123|18.034484658944706|\n",
            "|    min|  A.J. DeLaGarza|Afghanistan|              CAM|              1.0|1. FC Heidenheim|          CAM|               1.0|  01/01/1993|            2017.0|               45|155 cm|100 kg|          Left|01/01/1982|                17|               CAM|    High / High|                 1|                 1|                 5|                 4|                3|                 5|                 3|                 2|               29|                 2|                3|                10|                 5|                 6|                10|                 7|                11|                11|                10|                20|                10|                11|                15|                 4|                 3|                 2|                 4|                6|                 4|                 7|                3|                1|                1|                 1|                 1|                 1|\n",
            "|    max|Željko Filipović|   Zimbabwe|              Sub|             36.0|   Śląsk Wrocław|          Sub|              99.0|  12/31/2016|            2023.0|               94|207 cm| 99 kg|         Right|12/31/1998|                47|            ST/RWB|Medium / Medium|                 5|                 5|                95|                97|               92|                95|                92|                96|               96|                94|               93|                94|                94|                91|                92|                93|                96|                96|                95|                98|                97|                96|                95|                94|                93|                95|                91|               92|                93|                96|               93|               91|               89|                95|                91|                90|\n",
            "+-------+----------------+-----------+-----------------+-----------------+----------------+-------------+------------------+------------+------------------+-----------------+------+------+--------------+----------+------------------+------------------+---------------+------------------+------------------+------------------+------------------+-----------------+------------------+------------------+------------------+-----------------+------------------+-----------------+------------------+------------------+------------------+------------------+------------------+------------------+------------------+------------------+------------------+------------------+------------------+------------------+------------------+------------------+------------------+------------------+-----------------+------------------+------------------+-----------------+-----------------+-----------------+------------------+------------------+------------------+\n",
            "\n"
          ]
        }
      ]
    },
    {
      "cell_type": "code",
      "source": [
        "#read sample data\n",
        "full_data.sample(withReplacement=False,fraction=0.1).show()"
      ],
      "metadata": {
        "colab": {
          "base_uri": "https://localhost:8080/"
        },
        "id": "koJYM98LkFgN",
        "outputId": "27451836-0ef2-45bf-df17-f8695dff6ae8"
      },
      "execution_count": 24,
      "outputs": [
        {
          "output_type": "stream",
          "name": "stdout",
          "text": [
            "+-------------------+-----------+-----------------+------------+---------------+-------------+--------+------------+---------------+------+------+------+--------------+----------+---+------------------+---------------+---------+-----------+------------+---------+-------+--------------+---------------+----------+---------+------------------+-------------+------+---------+--------+----------+---------+------------+-----+-------+--------+-------+-------+-------+-------+----------+---------+----------+-----+-----------------+---------+-------+--------------+---------+----------+-----------+-----------+\n",
            "|               Name|Nationality|National_Position|National_Kit|           Club|Club_Position|Club_Kit|Club_Joining|Contract_Expiry|Rating|Height|Weight|Preffered_Foot|Birth_Date|Age|Preffered_Position|      Work_Rate|Weak_foot|Skill_Moves|Ball_Control|Dribbling|Marking|Sliding_Tackle|Standing_Tackle|Aggression|Reactions|Attacking_Position|Interceptions|Vision|Composure|Crossing|Short_Pass|Long_Pass|Acceleration|Speed|Stamina|Strength|Balance|Agility|Jumping|Heading|Shot_Power|Finishing|Long_Shots|Curve|Freekick_Accuracy|Penalties|Volleys|GK_Positioning|GK_Diving|GK_Kicking|GK_Handling|GK_Reflexes|\n",
            "+-------------------+-----------+-----------------+------------+---------------+-------------+--------+------------+---------------+------+------+------+--------------+----------+---+------------------+---------------+---------+-----------+------------+---------+-------+--------------+---------------+----------+---------+------------------+-------------+------+---------+--------+----------+---------+------------+-----+-------+--------+-------+-------+-------+-------+----------+---------+----------+-----+-----------------+---------+-------+--------------+---------+----------+-----------+-----------+\n",
            "|  Cristiano Ronaldo|   Portugal|               LS|         7.0|    Real Madrid|           LW|     7.0|  07/01/2009|         2021.0|    94|185 cm| 80 kg|         Right|02/05/1985| 32|             LW/ST|     High / Low|        4|          5|          93|       92|     22|            23|             31|        63|       96|                94|           29|    85|       86|      84|        83|       77|          91|   92|     92|      80|     63|     90|     95|     85|        92|       93|        90|   81|               76|       85|     88|            14|        7|        15|         11|         11|\n",
            "|        Eden Hazard|    Belgium|               LF|        10.0|        Chelsea|           LW|    10.0|  07/01/2012|         2020.0|    89|173 cm| 74 kg|         Right|01/07/1991| 26|             LW/LM|  High / Medium|        4|          4|          91|       93|     25|            22|             27|        54|       85|                85|           41|    86|       86|      80|        84|       80|          93|   87|     77|      65|     90|     92|     59|     57|        79|       81|        82|   82|               79|       86|     79|             8|       11|         6|         12|          8|\n",
            "|    Gonzalo Higuaín|  Argentina|              Sub|         9.0|       Juventus|           ST|     9.0|  07/26/2016|         2021.0|    89|184 cm| 92 kg|         Right|12/10/1987| 29|                ST|  High / Medium|        4|          3|          85|       84|     12|            18|             22|        50|       86|                92|           20|    70|       84|      68|        73|       59|          79|   81|     73|      85|     69|     75|     77|     80|        86|       92|        80|   74|               62|       70|     88|             5|        5|         7|         12|         10|\n",
            "|     Marco Verratti|      Italy|              LCM|        10.0|            PSG|          RCM|     6.0|  07/01/2012|         2021.0|    86|165 cm| 60 kg|         Right|11/05/1992| 24|            CM/CDM|    High / High|        4|          4|          87|       88|     76|            79|             82|        89|       87|                71|           83|    86|       91|      72|        90|       87|          72|   64|     77|      56|     94|     87|     64|     55|        66|       52|        58|   73|               64|       64|     64|            15|       12|        15|         12|         10|\n",
            "|           Coutinho|     Brazil|               RW|        11.0|      Liverpool|           LW|    10.0|  01/30/2013|         2022.0|    86|171 cm| 68 kg|         Right|06/12/1992| 24|            LW/CAM|    High / High|        4|          4|          88|       88|     24|            40|             44|        55|       81|                83|           30|    87|       79|      77|        85|       78|          89|   77|     79|      61|     91|     91|     59|     47|        79|       73|        85|   84|               79|       64|     75|            14|       12|         9|          7|          6|\n",
            "|        Diego Costa|      Spain|               ST|        19.0|        Chelsea|           ST|    19.0|  07/15/2014|         2019.0|    86|188 cm| 85 kg|         Right|10/07/1988| 28|                ST|  High / Medium|        4|          3|          83|       79|     28|            34|             39|        93|       85|                88|           40|    74|       84|      65|        67|       52|          76|   78|     85|      91|     52|     58|     64|     82|        84|       89|        72|   62|               59|       76|     82|             8|       11|        12|         13|         11|\n",
            "|      Santi Cazorla|      Spain|             null|        null|        Arsenal|          Sub|    19.0|  08/07/2012|         2018.0|    86|168 cm| 66 kg|         Right|12/13/1984| 32|           CAM/CDM|Medium / Medium|        5|          4|          87|       86|     58|            52|             64|        64|       85|                82|           64|    85|       88|      85|        86|       84|          75|   65|     72|      59|     91|     85|     70|     58|        78|       77|        82|   86|               78|       80|     72|             7|        6|         5|          9|         15|\n",
            "|      Sergio Asenjo|      Spain|             null|        null|  Villarreal CF|          Sub|     1.0|  06/30/2014|         2022.0|    84|189 cm| 87 kg|         Right|06/28/1989| 27|                GK|Medium / Medium|        3|          1|          14|       15|     12|            14|             15|        20|       79|                12|           22|    46|       39|      24|        39|       39|          59|   54|     43|      73|     58|     62|     73|     13|        24|       14|        23|   23|               22|       15|     22|            82|       86|        76|         83|         85|\n",
            "|         Dani Alves|     Brazil|               RB|         2.0|       Juventus|          Sub|    23.0|  07/01/2016|         2018.0|    84|172 cm| 68 kg|         Right|05/06/1983| 33|                RB|     High / Low|        3|          3|          85|       84|     72|            84|             80|        78|       82|                72|           82|    78|       82|      84|        81|       77|          79|   83|     75|      55|     87|     85|     79|     72|        86|       60|        78|   78|               74|       70|     68|             6|        5|         9|         11|          7|\n",
            "|     Gerónimo Rulli|  Argentina|             null|        null|  Real Sociedad|           GK|     1.0|  01/01/2017|         2022.0|    83|189 cm| 80 kg|         Right|05/20/1992| 24|                GK|Medium / Medium|        3|          1|          15|       15|     16|            17|             13|        26|       77|                12|           21|    58|       30|      12|        32|       23|          54|   48|     42|      73|     50|     58|     68|     12|        24|       15|        17|   19|               20|       24|     16|            82|       85|        75|         79|         86|\n",
            "|  Kalidou Koulibaly|    Senegal|             null|        null|         Napoli|          LCB|    26.0|  07/01/2014|         2019.0|    83|195 cm| 89 kg|         Right|06/20/1991| 25|                CB|    High / High|        2|          2|          57|       54|     85|            84|             86|        86|       79|                24|           81|    34|       67|      30|        57|       48|          69|   78|     75|      93|     48|     53|     78|     78|        55|       19|        15|   28|               28|       33|     14|            13|        7|         7|         11|          5|\n",
            "|Giacomo Bonaventura|      Italy|             null|        null|          Milan|          Res|     5.0|  09/01/2014|         2019.0|    83|181 cm| 75 kg|         Right|08/22/1989| 27|             CM/LM|  High / Medium|        3|          3|          84|       84|     58|            68|             73|        66|       83|                79|           73|    81|       82|      82|        83|       81|          81|   81|     88|      69|     77|     79|     69|     58|        84|       75|        85|   78|               78|       68|     78|            15|       10|         7|         14|         14|\n",
            "|    Mateo Musacchio|  Argentina|              Sub|        15.0|  Villarreal CF|          RCB|     5.0|  07/01/2010|         2018.0|    83|182 cm| 75 kg|         Right|08/26/1990| 26|                CB|Medium / Medium|        3|          2|          73|       43|     85|            86|             84|        81|       81|                50|           85|    64|       70|      55|        78|       70|          75|   70|     72|      81|     59|     73|     83|     81|        57|       48|        53|   53|               45|       57|     36|             6|        5|        12|         11|         12|\n",
            "| Sebastian Giovinco|      Italy|             null|        null|     Toronto FC|           LS|    10.0|  02/03/2015|         2019.0|    83|164 cm| 59 kg|         Right|01/26/1987| 30|             CF/ST|  High / Medium|        4|          4|          87|       86|     23|            28|             23|        73|       81|                83|           26|    85|       88|      72|        78|       70|          90|   86|     75|      48|     93|     93|     53|     37|        78|       81|        80|   86|               86|       75|     70|             3|        6|         6|          3|          3|\n",
            "|    Mario Mandžukić|    Croatia|             null|        null|       Juventus|           LM|    17.0|  07/01/2015|         2019.0|    83|190 cm| 86 kg|         Right|05/21/1986| 30|             ST/LM|    High / High|        3|          2|          77|       73|     48|            48|             56|        88|       86|                89|           56|    62|       80|      64|        71|       45|          69|   75|     87|      87|     55|     69|     85|     90|        78|       84|        58|   56|               45|       76|     86|             8|       10|         5|          8|         15|\n",
            "|     Ezequiel Garay|  Argentina|             null|        null|    Valencia CF|          RCB|    24.0|  08/31/2016|         2020.0|    83|188 cm| 77 kg|         Right|10/10/1986| 30|                CB|Medium / Medium|        3|          2|          73|       62|     84|            82|             85|        74|       77|                49|           84|    63|       79|      62|        69|       72|          50|   54|     75|      85|     38|     57|     71|     85|        80|       58|        68|   55|               74|       69|     49|            13|       14|        13|          6|         14|\n",
            "|           Joe Hart|    England|               GK|         1.0|         Torino|           GK|    21.0|  05/24/2006|         2019.0|    83|196 cm| 91 kg|         Right|04/19/1987| 29|                GK|Medium / Medium|        3|          1|          20|       23|     14|            13|             14|        28|       77|                14|           25|    42|       68|      14|        32|       35|          59|   60|     28|      61|     32|     50|     72|     10|        65|       14|        19|   17|               13|       68|     19|            81|       83|        75|         80|         85|\n",
            "|      Marco Asensio|      Spain|             null|        null|    Real Madrid|          Sub|    20.0|  01/22/2015|         2021.0|    82|178 cm| 70 kg|          Left|01/21/1996| 21|         CAM/LM/LW|Medium / Medium|        3|          4|          85|       82|     30|            41|             45|        45|       78|                72|           45|    83|       78|      80|        86|       81|          81|   78|     74|      62|     76|     79|     58|     50|        67|       75|        78|   84|               76|       62|     76|            12|       13|         6|          9|         10|\n",
            "|             Nolito|      Spain|             null|        null|Manchester City|          Sub|     9.0|  07/01/2016|         2019.0|    82|175 cm| 72 kg|         Right|10/15/1986| 30|             LW/LM|     High / Low|        3|          4|          83|       81|     30|            25|             39|        73|       84|                82|           58|    81|       82|      81|        77|       67|          79|   76|     74|      62|     81|     84|     63|     45|        74|       81|        80|   83|               80|       74|     65|             8|       10|        12|         15|          8|\n",
            "|       Granit Xhaka|Switzerland|              LDM|        10.0|        Arsenal|          Sub|    29.0|  07/01/2016|         2021.0|    82|185 cm| 82 kg|          Left|09/27/1992| 24|            CDM/CM|Medium / Medium|        4|          3|          80|       70|     71|            68|             75|        90|       83|                77|           76|    86|       73|      68|        85|       89|          48|   54|     79|      76|     62|     55|     40|     62|        88|       49|        85|   68|               70|       59|     50|             7|        7|        11|          8|         13|\n",
            "+-------------------+-----------+-----------------+------------+---------------+-------------+--------+------------+---------------+------+------+------+--------------+----------+---+------------------+---------------+---------+-----------+------------+---------+-------+--------------+---------------+----------+---------+------------------+-------------+------+---------+--------+----------+---------+------------+-----+-------+--------+-------+-------+-------+-------+----------+---------+----------+-----+-----------------+---------+-------+--------------+---------+----------+-----------+-----------+\n",
            "only showing top 20 rows\n",
            "\n"
          ]
        }
      ]
    },
    {
      "cell_type": "code",
      "source": [
        "#read schema\n",
        "full_data.dtypes"
      ],
      "metadata": {
        "colab": {
          "base_uri": "https://localhost:8080/"
        },
        "id": "5dej_WVSmVDi",
        "outputId": "823982da-776b-4051-fdcb-ca34b7462c59"
      },
      "execution_count": 25,
      "outputs": [
        {
          "output_type": "execute_result",
          "data": {
            "text/plain": [
              "[('Name', 'string'),\n",
              " ('Nationality', 'string'),\n",
              " ('National_Position', 'string'),\n",
              " ('National_Kit', 'double'),\n",
              " ('Club', 'string'),\n",
              " ('Club_Position', 'string'),\n",
              " ('Club_Kit', 'double'),\n",
              " ('Club_Joining', 'string'),\n",
              " ('Contract_Expiry', 'double'),\n",
              " ('Rating', 'int'),\n",
              " ('Height', 'string'),\n",
              " ('Weight', 'string'),\n",
              " ('Preffered_Foot', 'string'),\n",
              " ('Birth_Date', 'string'),\n",
              " ('Age', 'int'),\n",
              " ('Preffered_Position', 'string'),\n",
              " ('Work_Rate', 'string'),\n",
              " ('Weak_foot', 'int'),\n",
              " ('Skill_Moves', 'int'),\n",
              " ('Ball_Control', 'int'),\n",
              " ('Dribbling', 'int'),\n",
              " ('Marking', 'int'),\n",
              " ('Sliding_Tackle', 'int'),\n",
              " ('Standing_Tackle', 'int'),\n",
              " ('Aggression', 'int'),\n",
              " ('Reactions', 'int'),\n",
              " ('Attacking_Position', 'int'),\n",
              " ('Interceptions', 'int'),\n",
              " ('Vision', 'int'),\n",
              " ('Composure', 'int'),\n",
              " ('Crossing', 'int'),\n",
              " ('Short_Pass', 'int'),\n",
              " ('Long_Pass', 'int'),\n",
              " ('Acceleration', 'int'),\n",
              " ('Speed', 'int'),\n",
              " ('Stamina', 'int'),\n",
              " ('Strength', 'int'),\n",
              " ('Balance', 'int'),\n",
              " ('Agility', 'int'),\n",
              " ('Jumping', 'int'),\n",
              " ('Heading', 'int'),\n",
              " ('Shot_Power', 'int'),\n",
              " ('Finishing', 'int'),\n",
              " ('Long_Shots', 'int'),\n",
              " ('Curve', 'int'),\n",
              " ('Freekick_Accuracy', 'int'),\n",
              " ('Penalties', 'int'),\n",
              " ('Volleys', 'int'),\n",
              " ('GK_Positioning', 'int'),\n",
              " ('GK_Diving', 'int'),\n",
              " ('GK_Kicking', 'int'),\n",
              " ('GK_Handling', 'int'),\n",
              " ('GK_Reflexes', 'int')]"
            ]
          },
          "metadata": {},
          "execution_count": 25
        }
      ]
    },
    {
      "cell_type": "code",
      "source": [],
      "metadata": {
        "id": "axnoMyMPnS1n"
      },
      "execution_count": null,
      "outputs": []
    }
  ]
}