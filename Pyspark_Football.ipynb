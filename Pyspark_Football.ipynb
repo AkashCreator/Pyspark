{
  "nbformat": 4,
  "nbformat_minor": 0,
  "metadata": {
    "colab": {
      "provenance": [],
      "authorship_tag": "ABX9TyN92l16vKNiZ3svCDfMKZx1",
      "include_colab_link": true
    },
    "kernelspec": {
      "name": "python3",
      "display_name": "Python 3"
    },
    "language_info": {
      "name": "python"
    }
  },
  "cells": [
    {
      "cell_type": "markdown",
      "metadata": {
        "id": "view-in-github",
        "colab_type": "text"
      },
      "source": [
        "<a href=\"https://colab.research.google.com/github/AkashCreator/Pyspark/blob/main/Pyspark_Football.ipynb\" target=\"_parent\"><img src=\"https://colab.research.google.com/assets/colab-badge.svg\" alt=\"Open In Colab\"/></a>"
      ]
    },
    {
      "cell_type": "code",
      "execution_count": 105,
      "metadata": {
        "colab": {
          "base_uri": "https://localhost:8080/"
        },
        "id": "_dTzV5Z5hyi8",
        "outputId": "10518761-b700-4992-e3d4-5f6069fa073e"
      },
      "outputs": [
        {
          "output_type": "stream",
          "name": "stdout",
          "text": [
            "Requirement already satisfied: pyspark in /usr/local/lib/python3.10/dist-packages (3.4.1)\n",
            "Requirement already satisfied: py4j==0.10.9.7 in /usr/local/lib/python3.10/dist-packages (from pyspark) (0.10.9.7)\n"
          ]
        }
      ],
      "source": [
        "# install pyspark\n",
        "!pip install pyspark"
      ]
    },
    {
      "cell_type": "code",
      "source": [
        "# read dataset using Sparksession\n",
        "from pyspark.sql import SparkSession\n",
        "spark=SparkSession.builder.appName(\"football\").enableHiveSupport().getOrCreate()"
      ],
      "metadata": {
        "id": "K-ZiSMVKiKGd"
      },
      "execution_count": 106,
      "outputs": []
    },
    {
      "cell_type": "code",
      "source": [
        "#display spark session\n",
        "spark"
      ],
      "metadata": {
        "colab": {
          "base_uri": "https://localhost:8080/",
          "height": 222
        },
        "id": "YM4LTkepjlZJ",
        "outputId": "50198ce3-f02b-4a82-c943-01bcb2afca41"
      },
      "execution_count": 107,
      "outputs": [
        {
          "output_type": "execute_result",
          "data": {
            "text/plain": [
              "<pyspark.sql.session.SparkSession at 0x7a95e04744f0>"
            ],
            "text/html": [
              "\n",
              "            <div>\n",
              "                <p><b>SparkSession - in-memory</b></p>\n",
              "                \n",
              "        <div>\n",
              "            <p><b>SparkContext</b></p>\n",
              "\n",
              "            <p><a href=\"http://8a10cc8de43b:4040\">Spark UI</a></p>\n",
              "\n",
              "            <dl>\n",
              "              <dt>Version</dt>\n",
              "                <dd><code>v3.4.1</code></dd>\n",
              "              <dt>Master</dt>\n",
              "                <dd><code>local[*]</code></dd>\n",
              "              <dt>AppName</dt>\n",
              "                <dd><code>football</code></dd>\n",
              "            </dl>\n",
              "        </div>\n",
              "        \n",
              "            </div>\n",
              "        "
            ]
          },
          "metadata": {},
          "execution_count": 107
        }
      ]
    },
    {
      "cell_type": "code",
      "source": [
        "#read football main dataset and show stats\n",
        "full_data=spark.read.csv('./football_analysis/FullData.csv',header=True,inferSchema=True)\n",
        "full_data.summary().show()"
      ],
      "metadata": {
        "colab": {
          "base_uri": "https://localhost:8080/"
        },
        "id": "KO2xHH7-jyh-",
        "outputId": "7978eac5-7233-4ce2-9e19-a1210a3993f0"
      },
      "execution_count": 108,
      "outputs": [
        {
          "output_type": "stream",
          "name": "stdout",
          "text": [
            "+-------+----------------+-----------+-----------------+-----------------+----------------+-------------+------------------+------------+------------------+-----------------+------+------+--------------+----------+------------------+------------------+---------------+------------------+------------------+------------------+------------------+-----------------+------------------+------------------+------------------+-----------------+------------------+-----------------+------------------+------------------+------------------+------------------+------------------+------------------+------------------+------------------+------------------+------------------+------------------+------------------+------------------+------------------+------------------+------------------+-----------------+------------------+------------------+-----------------+-----------------+-----------------+------------------+------------------+------------------+\n",
            "|summary|            Name|Nationality|National_Position|     National_Kit|            Club|Club_Position|          Club_Kit|Club_Joining|   Contract_Expiry|           Rating|Height|Weight|Preffered_Foot|Birth_Date|               Age|Preffered_Position|      Work_Rate|         Weak_foot|       Skill_Moves|      Ball_Control|         Dribbling|          Marking|    Sliding_Tackle|   Standing_Tackle|        Aggression|        Reactions|Attacking_Position|    Interceptions|            Vision|         Composure|          Crossing|        Short_Pass|         Long_Pass|      Acceleration|             Speed|           Stamina|          Strength|           Balance|           Agility|           Jumping|           Heading|        Shot_Power|         Finishing|        Long_Shots|            Curve| Freekick_Accuracy|         Penalties|          Volleys|   GK_Positioning|        GK_Diving|        GK_Kicking|       GK_Handling|       GK_Reflexes|\n",
            "+-------+----------------+-----------+-----------------+-----------------+----------------+-------------+------------------+------------+------------------+-----------------+------+------+--------------+----------+------------------+------------------+---------------+------------------+------------------+------------------+------------------+-----------------+------------------+------------------+------------------+-----------------+------------------+-----------------+------------------+------------------+------------------+------------------+------------------+------------------+------------------+------------------+------------------+------------------+------------------+------------------+------------------+------------------+------------------+------------------+-----------------+------------------+------------------+-----------------+-----------------+-----------------+------------------+------------------+------------------+\n",
            "|  count|           17588|      17588|             1075|             1075|           17588|        17587|             17587|       17587|             17587|            17588| 17588| 17588|         17588|     17588|             17588|             17588|          17588|             17588|             17588|             17588|             17588|            17588|             17588|             17588|             17588|            17588|             17588|            17588|             17588|             17588|             17588|             17588|             17588|             17588|             17588|             17588|             17588|             17588|             17588|             17588|             17588|             17588|             17588|             17588|            17588|             17588|             17588|            17588|            17588|            17588|             17588|             17588|             17588|\n",
            "|   mean|            null|       null|             null|12.21953488372093|            null|         null|21.294535736623644|        null|2018.8994143401376|66.16619285876735|  null|  null|          null|      null|25.460313850352513|              null|           null|2.9341027973618377|2.3031612463042985| 57.97276552194678| 54.80287696156471|44.23032749602002| 45.56549920400273| 47.44109620195588| 55.92017284512168|61.77058221514669|49.592051398680915|46.79406413463725|52.707869001591995| 55.85313850352513| 49.74107345917671| 58.11979758926541|52.396065499204006| 65.28786672731408| 65.48385262679099| 63.47691607914487| 65.08585399135774| 64.00881282692745| 63.20673186263361| 64.91852399363202| 52.39310893791221|55.581191721628386| 45.15760745963156| 47.40317261769388|47.18114623607005| 43.38344325676598| 49.16573800318399|43.27558562656357| 16.6096201955879|16.82306117807596|16.458323857175348|16.559813509210827|16.901182624516714|\n",
            "| stddev|            null|       null|             null|6.933186712887216|            null|         null|19.163740902120328|        null|1.6987874397242104|7.083011910808598|  null|  null|          null|      null| 4.680217413869141|              null|           null| 0.655926576488848|0.7461561335585832|16.834779141602063|18.913856927552217|21.56170286366945|21.515178683786196|21.827815177394776|17.445464371518423|9.275210372200354| 19.40708666246652|20.49471458129605| 14.58944611175663|13.485994404424476|18.457977316700244|14.982582307016756|15.616070556313117|14.436295831413878|14.100614851107773|15.477376758689475|12.532989073544742|13.720287806498058|14.618163324413052|11.430806830380547|17.473703194740338|17.600154972744576|19.374428000510303|19.211887239466655|18.46439603587325|17.701902992977164|15.871735042516146|17.71083867546305|17.13990350837133|17.79805177156695|16.600741103484737|16.967255592321123|18.034484658944706|\n",
            "|    min|  A.J. DeLaGarza|Afghanistan|              CAM|              1.0|1. FC Heidenheim|          CAM|               1.0|  01/01/1993|            2017.0|               45|155 cm|100 kg|          Left|01/01/1982|                17|               CAM|    High / High|                 1|                 1|                 5|                 4|                3|                 5|                 3|                 2|               29|                 2|                3|                10|                 5|                 6|                10|                 7|                11|                11|                10|                20|                10|                11|                15|                 4|                 3|                 2|                 4|                6|                 4|                 7|                3|                1|                1|                 1|                 1|                 1|\n",
            "|    25%|            null|       null|             null|              6.0|            null|         null|               9.0|        null|            2017.0|               62|  null|  null|          null|      null|                22|              null|           null|                 3|                 2|                53|                47|               22|                23|                26|                44|               55|                37|               26|                43|                47|                38|                52|                42|                57|                58|                57|                57|                56|                55|                58|                45|                45|                29|                32|               34|                31|                39|               30|                8|                8|                 8|                 8|                 8|\n",
            "|    50%|            null|       null|             null|             12.0|            null|         null|              18.0|        null|            2019.0|               66|  null|  null|          null|      null|                25|              null|           null|                 3|                 2|                63|                60|               48|                51|                54|                59|               62|                54|               52|                54|                57|                54|                62|                56|                68|                68|                66|                66|                65|                65|                65|                56|                59|                48|                52|               48|                42|                50|               44|               11|               11|                11|                11|                11|\n",
            "|    75%|            null|       null|             null|             18.0|            null|         null|              27.0|        null|            2020.0|               71|  null|  null|          null|      null|                29|              null|           null|                 3|                 3|                69|                68|               64|                64|                66|                70|               68|                64|               64|                64|                66|                64|                68|                64|                75|                75|                74|                74|                74|                74|                73|                65|                69|                61|                63|               62|                57|                61|               57|               14|               14|                14|                14|                14|\n",
            "|    max|Željko Filipović|   Zimbabwe|              Sub|             36.0|   Śląsk Wrocław|          Sub|              99.0|  12/31/2016|            2023.0|               94|207 cm| 99 kg|         Right|12/31/1998|                47|            ST/RWB|Medium / Medium|                 5|                 5|                95|                97|               92|                95|                92|                96|               96|                94|               93|                94|                94|                91|                92|                93|                96|                96|                95|                98|                97|                96|                95|                94|                93|                95|                91|               92|                93|                96|               93|               91|               89|                95|                91|                90|\n",
            "+-------+----------------+-----------+-----------------+-----------------+----------------+-------------+------------------+------------+------------------+-----------------+------+------+--------------+----------+------------------+------------------+---------------+------------------+------------------+------------------+------------------+-----------------+------------------+------------------+------------------+-----------------+------------------+-----------------+------------------+------------------+------------------+------------------+------------------+------------------+------------------+------------------+------------------+------------------+------------------+------------------+------------------+------------------+------------------+------------------+-----------------+------------------+------------------+-----------------+-----------------+-----------------+------------------+------------------+------------------+\n",
            "\n"
          ]
        }
      ]
    },
    {
      "cell_type": "markdown",
      "source": [
        "# Below are some of the observations made after running summary command\n",
        "\n",
        "  \n",
        "1.   There is one entry where we dont have data for Club_Position and some other parameters\n",
        "2.   Minimum age of the player is 17(kinda expected) and max age is 47 which is bit odd\n",
        "3.   Minimum weight is coming as 100 kg and Maximum weight is coming as 99 kg which is absurd(so more analysis is required here to identify rootcause)\n",
        "4.   Contract expiry year is coming as Float so needs some formatting\n",
        "5.   Birthdate is integer not a date format"
      ],
      "metadata": {
        "id": "YDnvF0f5qu66"
      }
    },
    {
      "cell_type": "code",
      "source": [
        "#read sample data\n",
        "full_data.sample(withReplacement=False,fraction=0.1).show()"
      ],
      "metadata": {
        "colab": {
          "base_uri": "https://localhost:8080/"
        },
        "id": "koJYM98LkFgN",
        "outputId": "6121d4d3-db70-40db-8993-6cee9d25b1fe"
      },
      "execution_count": 109,
      "outputs": [
        {
          "output_type": "stream",
          "name": "stdout",
          "text": [
            "+------------------+-----------+-----------------+------------+---------------+-------------+--------+------------+---------------+------+------+------+--------------+----------+---+------------------+---------------+---------+-----------+------------+---------+-------+--------------+---------------+----------+---------+------------------+-------------+------+---------+--------+----------+---------+------------+-----+-------+--------+-------+-------+-------+-------+----------+---------+----------+-----+-----------------+---------+-------+--------------+---------+----------+-----------+-----------+\n",
            "|              Name|Nationality|National_Position|National_Kit|           Club|Club_Position|Club_Kit|Club_Joining|Contract_Expiry|Rating|Height|Weight|Preffered_Foot|Birth_Date|Age|Preffered_Position|      Work_Rate|Weak_foot|Skill_Moves|Ball_Control|Dribbling|Marking|Sliding_Tackle|Standing_Tackle|Aggression|Reactions|Attacking_Position|Interceptions|Vision|Composure|Crossing|Short_Pass|Long_Pass|Acceleration|Speed|Stamina|Strength|Balance|Agility|Jumping|Heading|Shot_Power|Finishing|Long_Shots|Curve|Freekick_Accuracy|Penalties|Volleys|GK_Positioning|GK_Diving|GK_Kicking|GK_Handling|GK_Reflexes|\n",
            "+------------------+-----------+-----------------+------------+---------------+-------------+--------+------------+---------------+------+------+------+--------------+----------+---+------------------+---------------+---------+-----------+------------+---------+-------+--------------+---------------+----------+---------+------------------+-------------+------+---------+--------+----------+---------+------------+-----+-------+--------+-------+-------+-------+-------+----------+---------+----------+-----+-----------------+---------+-------+--------------+---------+----------+-----------+-----------+\n",
            "|       Gareth Bale|      Wales|               RS|        11.0|    Real Madrid|           RW|    11.0|  09/02/2013|         2022.0|    90|183 cm| 74 kg|          Left|07/16/1989| 27|                RW|  High / Medium|        3|          4|          88|       89|     51|            52|             55|        65|       87|                86|           59|    79|       85|      87|        86|       80|          93|   95|     78|      80|     65|     77|     85|     86|        91|       87|        90|   86|               85|       76|     76|             5|       15|        11|         15|          6|\n",
            "|  Leonardo Bonucci|      Italy|               CB|        19.0|       Juventus|          RCB|    19.0|  07/01/2010|         2021.0|    87|190 cm| 85 kg|         Right|05/01/1987| 29|                CB|     Low / High|        3|          2|          75|       68|     84|            88|             88|        82|       84|                38|           90|    74|       82|      44|        75|       83|          65|   75|     73|      85|     55|     61|     85|     84|        74|       37|        65|   56|               61|       70|     55|             2|        2|         3|          2|          4|\n",
            "|       Filipe Luís|     Brazil|              Sub|         6.0|Atlético Madrid|           LB|     3.0|  07/29/2015|         2019.0|    85|182 cm| 77 kg|          Left|08/09/1985| 31|                LB|  High / Medium|        3|          3|          81|       77|     85|            86|             83|        81|       83|                71|           82|    70|       78|      84|        78|       77|          77|   83|     91|      74|     60|     74|     62|     68|        71|       59|        60|   74|               75|       65|     56|             9|       11|         9|         15|          5|\n",
            "|  Yannick Carrasco|    Belgium|               LM|        18.0|Atlético Madrid|           LM|    10.0|  07/10/2015|         2022.0|    84|180 cm| 66 kg|         Right|09/04/1993| 23|             LM/LW|  High / Medium|        4|          4|          85|       90|     19|            26|             39|        61|       83|                82|           18|    74|       66|      80|        77|       72|          87|   89|     74|      59|     71|     91|     68|     53|        84|       78|        75|   81|               78|       74|     68|            10|        9|         9|         11|         10|\n",
            "|  Shkodran Mustafi|    Germany|              Sub|         2.0|        Arsenal|          RCB|    20.0|  08/30/2016|         2021.0|    84|184 cm| 82 kg|         Right|04/17/1992| 24|                CB|  Medium / High|        3|          2|          70|       53|     82|            85|             83|        79|       81|                50|           85|    55|       71|      51|        77|       69|          67|   73|     74|      81|     69|     66|     85|     81|        66|       58|        52|   55|               47|       54|     51|            10|       11|        15|          9|          6|\n",
            "|     Ralf Fährmann|    Germany|             null|        null|  FC Schalke 04|           GK|     1.0|  07/01/2011|         2020.0|    84|196 cm| 95 kg|         Right|09/27/1988| 28|                GK|Medium / Medium|        2|          1|          24|       15|     12|            10|             12|        36|       84|                11|           23|    42|       61|      14|        25|       26|          38|   47|     32|      79|     36|     39|     72|     14|        24|       11|         9|   18|               11|       21|     11|            85|       83|        51|         86|         87|\n",
            "|José María Giménez|    Uruguay|              RCB|         2.0|Atlético Madrid|          Sub|    24.0|  07/01/2013|         2018.0|    83|185 cm| 80 kg|         Right|01/20/1995| 22|                CB|  Medium / High|        3|          2|          56|       47|     85|            87|             86|        89|       76|                24|           85|    27|       60|      47|        68|       58|          68|   72|     70|      83|     51|     57|     90|     79|        72|       37|        48|   36|               44|       38|     30|            10|        9|         7|         11|         15|\n",
            "|       André Gomes|   Portugal|               CM|        15.0|   FC Barcelona|          Sub|    21.0|  07/21/2016|         2021.0|    83|188 cm| 84 kg|         Right|07/30/1993| 23|            CM/CAM|Medium / Medium|        4|          3|          83|       84|     65|            64|             77|        81|       82|                77|           76|    83|       78|      61|        85|       84|          72|   66|     77|      85|     64|     68|     58|     69|        80|       68|        73|   82|               68|       55|     63|            14|       12|         6|          9|          8|\n",
            "|          Casemiro|     Brazil|              CDM|         5.0|    Real Madrid|          Sub|    14.0|  07/11/2013|         2021.0|    83|184 cm| 80 kg|         Right|02/23/1992| 25|               CDM|  Medium / High|        3|          2|          77|       69|     79|            85|             86|        87|       78|                66|           84|    72|       73|      52|        80|       82|          59|   62|     85|      82|     57|     66|     87|     74|        86|       59|        75|   59|               74|       66|     53|            12|       13|        16|         14|         12|\n",
            "|        Iago Aspas|      Spain|              Sub|         9.0|     Celta Vigo|           RW|    10.0|  07/01/2015|         2020.0|    83|176 cm| 67 kg|          Left|08/01/1987| 29|             ST/RW|    High / High|        3|          3|          84|       85|     20|            18|             21|        63|       86|                85|           36|    68|       69|      69|        80|       67|          86|   80|     72|      59|     77|     88|     68|     78|        79|       84|        82|   83|               76|       74|     86|            12|       12|         9|         16|         13|\n",
            "|    Olivier Giroud|     France|               ST|         9.0|        Arsenal|          Sub|    12.0|  06/26/2012|         2020.0|    83|192 cm| 88 kg|          Left|09/30/1986| 30|                ST|Medium / Medium|        3|          2|          82|       72|     26|            20|             37|        76|       83|                84|           41|    75|       78|      63|        77|       56|          60|   58|     79|      88|     52|     59|     82|     88|        84|       84|        76|   70|               65|       81|     82|             6|       12|        11|         15|          5|\n",
            "|             Naldo|     Brazil|             null|        null|  FC Schalke 04|          Sub|    29.0|  07/01/2016|         2018.0|    83|198 cm| 91 kg|         Right|09/10/1982| 34|                CB|  High / Medium|        4|          2|          68|       60|     82|            85|             86|        73|       82|                53|           84|    59|       84|      45|        73|       70|          67|   73|     62|      83|     42|     53|     43|     93|        92|       57|        82|   52|               76|       60|     60|             8|       14|        14|         10|         14|\n",
            "|    Ezequiel Garay|  Argentina|             null|        null|    Valencia CF|          RCB|    24.0|  08/31/2016|         2020.0|    83|188 cm| 77 kg|         Right|10/10/1986| 30|                CB|Medium / Medium|        3|          2|          73|       62|     84|            82|             85|        74|       77|                49|           84|    63|       79|      62|        69|       72|          50|   54|     75|      85|     38|     57|     71|     85|        80|       58|        68|   55|               74|       69|     49|            13|       14|        13|          6|         14|\n",
            "|   Leighton Baines|    England|             null|        null|        Everton|           LB|     3.0|  08/07/2007|         2019.0|    83|170 cm| 70 kg|          Left|12/11/1984| 32|                LB|  High / Medium|        3|          3|          79|       78|     81|            82|             82|        74|       80|                75|           80|    76|       81|      88|        81|       74|          76|   75|     86|      69|     85|     75|     72|     74|        84|       70|        75|   81|               82|       90|     63|            13|        8|        10|         15|         12|\n",
            "|     Marco Asensio|      Spain|             null|        null|    Real Madrid|          Sub|    20.0|  01/22/2015|         2021.0|    82|178 cm| 70 kg|          Left|01/21/1996| 21|         CAM/LM/LW|Medium / Medium|        3|          4|          85|       82|     30|            41|             45|        45|       78|                72|           45|    83|       78|      80|        86|       81|          81|   78|     74|      62|     76|     79|     58|     50|        67|       75|        78|   84|               76|       62|     76|            12|       13|         6|          9|         10|\n",
            "|        Sadio Mané|    Senegal|             null|        null|      Liverpool|           RW|    19.0|  07/01/2016|         2020.0|    82|175 cm| 75 kg|         Right|04/10/1992| 24|                RW|  High / Medium|        3|          4|          82|       85|     33|            38|             33|        71|       78|                82|           29|    77|       76|      72|        76|       72|          94|   92|     83|      72|     85|     88|     75|     53|        76|       81|        66|   74|               64|       71|     66|             7|       10|        15|         10|         14|\n",
            "|            Nolito|      Spain|             null|        null|Manchester City|          Sub|     9.0|  07/01/2016|         2019.0|    82|175 cm| 72 kg|         Right|10/15/1986| 30|             LW/LM|     High / Low|        3|          4|          83|       81|     30|            25|             39|        73|       84|                82|           58|    81|       82|      81|        77|       67|          79|   76|     74|      62|     81|     84|     63|     45|        74|       81|        80|   83|               80|       74|     65|             8|       10|        12|         15|          8|\n",
            "|      Granit Xhaka|Switzerland|              LDM|        10.0|        Arsenal|          Sub|    29.0|  07/01/2016|         2021.0|    82|185 cm| 82 kg|          Left|09/27/1992| 24|            CDM/CM|Medium / Medium|        4|          3|          80|       70|     71|            68|             75|        90|       83|                77|           76|    86|       73|      68|        85|       89|          48|   54|     79|      76|     62|     55|     40|     62|        88|       49|        85|   68|               70|       59|     50|             7|        7|        11|          8|         13|\n",
            "|        Gary Medel|      Chile|              RCB|        17.0|          Inter|          Sub|    17.0|  08/16/2014|         2018.0|    82|171 cm| 71 kg|         Right|08/03/1987| 29|            CDM/CB|     Low / High|        4|          2|          74|       68|     78|            82|             84|        89|       80|                58|           86|    72|       78|      55|        78|       76|          77|   76|     88|      78|     92|     78|     92|     68|        65|       31|        59|   35|               45|       62|     61|             6|       14|         9|          7|          6|\n",
            "|     Mamadou Sakho|     France|             null|        null| Crystal Palace|          LCB|    12.0|  09/02/2013|         2020.0|    81|187 cm| 83 kg|          Left|02/13/1990| 27|                CB|  Medium / High|        2|          2|          61|       50|     78|            81|             84|        85|       72|                32|           81|    49|       73|      60|        75|       66|          55|   68|     72|      90|     55|     61|     82|     71|        51|       23|        38|   50|               30|       40|     20|             7|       14|         9|         12|          8|\n",
            "+------------------+-----------+-----------------+------------+---------------+-------------+--------+------------+---------------+------+------+------+--------------+----------+---+------------------+---------------+---------+-----------+------------+---------+-------+--------------+---------------+----------+---------+------------------+-------------+------+---------+--------+----------+---------+------------+-----+-------+--------+-------+-------+-------+-------+----------+---------+----------+-----+-----------------+---------+-------+--------------+---------+----------+-----------+-----------+\n",
            "only showing top 20 rows\n",
            "\n"
          ]
        }
      ]
    },
    {
      "cell_type": "code",
      "source": [
        "#display schema\n",
        "full_data.dtypes"
      ],
      "metadata": {
        "colab": {
          "base_uri": "https://localhost:8080/"
        },
        "id": "5dej_WVSmVDi",
        "outputId": "903f194c-8988-4959-89fd-bd840128b6b6"
      },
      "execution_count": 110,
      "outputs": [
        {
          "output_type": "execute_result",
          "data": {
            "text/plain": [
              "[('Name', 'string'),\n",
              " ('Nationality', 'string'),\n",
              " ('National_Position', 'string'),\n",
              " ('National_Kit', 'double'),\n",
              " ('Club', 'string'),\n",
              " ('Club_Position', 'string'),\n",
              " ('Club_Kit', 'double'),\n",
              " ('Club_Joining', 'string'),\n",
              " ('Contract_Expiry', 'double'),\n",
              " ('Rating', 'int'),\n",
              " ('Height', 'string'),\n",
              " ('Weight', 'string'),\n",
              " ('Preffered_Foot', 'string'),\n",
              " ('Birth_Date', 'string'),\n",
              " ('Age', 'int'),\n",
              " ('Preffered_Position', 'string'),\n",
              " ('Work_Rate', 'string'),\n",
              " ('Weak_foot', 'int'),\n",
              " ('Skill_Moves', 'int'),\n",
              " ('Ball_Control', 'int'),\n",
              " ('Dribbling', 'int'),\n",
              " ('Marking', 'int'),\n",
              " ('Sliding_Tackle', 'int'),\n",
              " ('Standing_Tackle', 'int'),\n",
              " ('Aggression', 'int'),\n",
              " ('Reactions', 'int'),\n",
              " ('Attacking_Position', 'int'),\n",
              " ('Interceptions', 'int'),\n",
              " ('Vision', 'int'),\n",
              " ('Composure', 'int'),\n",
              " ('Crossing', 'int'),\n",
              " ('Short_Pass', 'int'),\n",
              " ('Long_Pass', 'int'),\n",
              " ('Acceleration', 'int'),\n",
              " ('Speed', 'int'),\n",
              " ('Stamina', 'int'),\n",
              " ('Strength', 'int'),\n",
              " ('Balance', 'int'),\n",
              " ('Agility', 'int'),\n",
              " ('Jumping', 'int'),\n",
              " ('Heading', 'int'),\n",
              " ('Shot_Power', 'int'),\n",
              " ('Finishing', 'int'),\n",
              " ('Long_Shots', 'int'),\n",
              " ('Curve', 'int'),\n",
              " ('Freekick_Accuracy', 'int'),\n",
              " ('Penalties', 'int'),\n",
              " ('Volleys', 'int'),\n",
              " ('GK_Positioning', 'int'),\n",
              " ('GK_Diving', 'int'),\n",
              " ('GK_Kicking', 'int'),\n",
              " ('GK_Handling', 'int'),\n",
              " ('GK_Reflexes', 'int')]"
            ]
          },
          "metadata": {},
          "execution_count": 110
        }
      ]
    },
    {
      "cell_type": "markdown",
      "source": [
        "First we will analyse the weight data"
      ],
      "metadata": {
        "id": "nYL76KyKtL-Y"
      }
    },
    {
      "cell_type": "code",
      "source": [
        "#As expected we are getting min as 100 because of kg in the column data so we will remove it to allow better analysis\n",
        "full_data.select('Weight').distinct().orderBy('Weight',ascending=False).show()"
      ],
      "metadata": {
        "colab": {
          "base_uri": "https://localhost:8080/"
        },
        "id": "R9obSWeOqS7A",
        "outputId": "dd16b877-3507-4e66-fd74-6b3f01617503"
      },
      "execution_count": 111,
      "outputs": [
        {
          "output_type": "stream",
          "name": "stdout",
          "text": [
            "+------+\n",
            "|Weight|\n",
            "+------+\n",
            "| 99 kg|\n",
            "| 98 kg|\n",
            "| 97 kg|\n",
            "| 96 kg|\n",
            "| 95 kg|\n",
            "| 94 kg|\n",
            "| 93 kg|\n",
            "| 92 kg|\n",
            "| 91 kg|\n",
            "| 90 kg|\n",
            "| 89 kg|\n",
            "| 88 kg|\n",
            "| 87 kg|\n",
            "| 86 kg|\n",
            "| 85 kg|\n",
            "| 84 kg|\n",
            "| 83 kg|\n",
            "| 82 kg|\n",
            "| 81 kg|\n",
            "| 80 kg|\n",
            "+------+\n",
            "only showing top 20 rows\n",
            "\n"
          ]
        }
      ]
    },
    {
      "cell_type": "code",
      "source": [
        "#import sql functions from pyspark library\n",
        "#replace ' kg' string to empty\n",
        "#type string data to Int and then display the sorted data to ensure its formatted correctly\n",
        "from pyspark.sql.functions import *\n",
        "full_data=full_data.withColumn('Weight',regexp_replace('Weight',' kg',''))\n",
        "full_data=full_data.withColumn('Weight',full_data.Weight.cast('Integer'))\\\n",
        ".orderBy('Weight',ascending=False)"
      ],
      "metadata": {
        "id": "Xxo1wTL-to3P"
      },
      "execution_count": 112,
      "outputs": []
    },
    {
      "cell_type": "markdown",
      "source": [
        "# \"Above weight data confirms that formatting has been done correctly and now can be used for any analysis/aggregates\""
      ],
      "metadata": {
        "id": "d3w_Ytd20jmc"
      }
    },
    {
      "cell_type": "code",
      "source": [
        "#print schema to check nullable columns.One observation is birthdate is string rather than date format\n",
        "#and to ensure weight is now Int\n",
        "full_data.printSchema()"
      ],
      "metadata": {
        "colab": {
          "base_uri": "https://localhost:8080/"
        },
        "id": "BBlkOvBm4Urx",
        "outputId": "2528b86b-e963-4292-be75-23987c9e469e"
      },
      "execution_count": 113,
      "outputs": [
        {
          "output_type": "stream",
          "name": "stdout",
          "text": [
            "root\n",
            " |-- Name: string (nullable = true)\n",
            " |-- Nationality: string (nullable = true)\n",
            " |-- National_Position: string (nullable = true)\n",
            " |-- National_Kit: double (nullable = true)\n",
            " |-- Club: string (nullable = true)\n",
            " |-- Club_Position: string (nullable = true)\n",
            " |-- Club_Kit: double (nullable = true)\n",
            " |-- Club_Joining: string (nullable = true)\n",
            " |-- Contract_Expiry: double (nullable = true)\n",
            " |-- Rating: integer (nullable = true)\n",
            " |-- Height: string (nullable = true)\n",
            " |-- Weight: integer (nullable = true)\n",
            " |-- Preffered_Foot: string (nullable = true)\n",
            " |-- Birth_Date: string (nullable = true)\n",
            " |-- Age: integer (nullable = true)\n",
            " |-- Preffered_Position: string (nullable = true)\n",
            " |-- Work_Rate: string (nullable = true)\n",
            " |-- Weak_foot: integer (nullable = true)\n",
            " |-- Skill_Moves: integer (nullable = true)\n",
            " |-- Ball_Control: integer (nullable = true)\n",
            " |-- Dribbling: integer (nullable = true)\n",
            " |-- Marking: integer (nullable = true)\n",
            " |-- Sliding_Tackle: integer (nullable = true)\n",
            " |-- Standing_Tackle: integer (nullable = true)\n",
            " |-- Aggression: integer (nullable = true)\n",
            " |-- Reactions: integer (nullable = true)\n",
            " |-- Attacking_Position: integer (nullable = true)\n",
            " |-- Interceptions: integer (nullable = true)\n",
            " |-- Vision: integer (nullable = true)\n",
            " |-- Composure: integer (nullable = true)\n",
            " |-- Crossing: integer (nullable = true)\n",
            " |-- Short_Pass: integer (nullable = true)\n",
            " |-- Long_Pass: integer (nullable = true)\n",
            " |-- Acceleration: integer (nullable = true)\n",
            " |-- Speed: integer (nullable = true)\n",
            " |-- Stamina: integer (nullable = true)\n",
            " |-- Strength: integer (nullable = true)\n",
            " |-- Balance: integer (nullable = true)\n",
            " |-- Agility: integer (nullable = true)\n",
            " |-- Jumping: integer (nullable = true)\n",
            " |-- Heading: integer (nullable = true)\n",
            " |-- Shot_Power: integer (nullable = true)\n",
            " |-- Finishing: integer (nullable = true)\n",
            " |-- Long_Shots: integer (nullable = true)\n",
            " |-- Curve: integer (nullable = true)\n",
            " |-- Freekick_Accuracy: integer (nullable = true)\n",
            " |-- Penalties: integer (nullable = true)\n",
            " |-- Volleys: integer (nullable = true)\n",
            " |-- GK_Positioning: integer (nullable = true)\n",
            " |-- GK_Diving: integer (nullable = true)\n",
            " |-- GK_Kicking: integer (nullable = true)\n",
            " |-- GK_Handling: integer (nullable = true)\n",
            " |-- GK_Reflexes: integer (nullable = true)\n",
            "\n"
          ]
        }
      ]
    },
    {
      "cell_type": "code",
      "source": [
        "#count the no of clubs just to ensure data is expected\n",
        "full_data.select('Club').distinct().count()"
      ],
      "metadata": {
        "colab": {
          "base_uri": "https://localhost:8080/"
        },
        "id": "tqgLJWYs463S",
        "outputId": "6bf22a03-cb41-4bc4-f68f-8851ba141c82"
      },
      "execution_count": 114,
      "outputs": [
        {
          "output_type": "execute_result",
          "data": {
            "text/plain": [
              "634"
            ]
          },
          "metadata": {},
          "execution_count": 114
        }
      ]
    },
    {
      "cell_type": "code",
      "source": [
        "#cast the Date column\n",
        "full_data=full_data.withColumn('Birth_Date',full_data.Birth_Date.cast('Date'))\n",
        "full_data.printSchema()"
      ],
      "metadata": {
        "colab": {
          "base_uri": "https://localhost:8080/"
        },
        "id": "vULbgpZw7HEB",
        "outputId": "d9714f87-c354-4340-8b2d-74475ed8ab8e"
      },
      "execution_count": 115,
      "outputs": [
        {
          "output_type": "stream",
          "name": "stdout",
          "text": [
            "root\n",
            " |-- Name: string (nullable = true)\n",
            " |-- Nationality: string (nullable = true)\n",
            " |-- National_Position: string (nullable = true)\n",
            " |-- National_Kit: double (nullable = true)\n",
            " |-- Club: string (nullable = true)\n",
            " |-- Club_Position: string (nullable = true)\n",
            " |-- Club_Kit: double (nullable = true)\n",
            " |-- Club_Joining: string (nullable = true)\n",
            " |-- Contract_Expiry: double (nullable = true)\n",
            " |-- Rating: integer (nullable = true)\n",
            " |-- Height: string (nullable = true)\n",
            " |-- Weight: integer (nullable = true)\n",
            " |-- Preffered_Foot: string (nullable = true)\n",
            " |-- Birth_Date: date (nullable = true)\n",
            " |-- Age: integer (nullable = true)\n",
            " |-- Preffered_Position: string (nullable = true)\n",
            " |-- Work_Rate: string (nullable = true)\n",
            " |-- Weak_foot: integer (nullable = true)\n",
            " |-- Skill_Moves: integer (nullable = true)\n",
            " |-- Ball_Control: integer (nullable = true)\n",
            " |-- Dribbling: integer (nullable = true)\n",
            " |-- Marking: integer (nullable = true)\n",
            " |-- Sliding_Tackle: integer (nullable = true)\n",
            " |-- Standing_Tackle: integer (nullable = true)\n",
            " |-- Aggression: integer (nullable = true)\n",
            " |-- Reactions: integer (nullable = true)\n",
            " |-- Attacking_Position: integer (nullable = true)\n",
            " |-- Interceptions: integer (nullable = true)\n",
            " |-- Vision: integer (nullable = true)\n",
            " |-- Composure: integer (nullable = true)\n",
            " |-- Crossing: integer (nullable = true)\n",
            " |-- Short_Pass: integer (nullable = true)\n",
            " |-- Long_Pass: integer (nullable = true)\n",
            " |-- Acceleration: integer (nullable = true)\n",
            " |-- Speed: integer (nullable = true)\n",
            " |-- Stamina: integer (nullable = true)\n",
            " |-- Strength: integer (nullable = true)\n",
            " |-- Balance: integer (nullable = true)\n",
            " |-- Agility: integer (nullable = true)\n",
            " |-- Jumping: integer (nullable = true)\n",
            " |-- Heading: integer (nullable = true)\n",
            " |-- Shot_Power: integer (nullable = true)\n",
            " |-- Finishing: integer (nullable = true)\n",
            " |-- Long_Shots: integer (nullable = true)\n",
            " |-- Curve: integer (nullable = true)\n",
            " |-- Freekick_Accuracy: integer (nullable = true)\n",
            " |-- Penalties: integer (nullable = true)\n",
            " |-- Volleys: integer (nullable = true)\n",
            " |-- GK_Positioning: integer (nullable = true)\n",
            " |-- GK_Diving: integer (nullable = true)\n",
            " |-- GK_Kicking: integer (nullable = true)\n",
            " |-- GK_Handling: integer (nullable = true)\n",
            " |-- GK_Reflexes: integer (nullable = true)\n",
            "\n"
          ]
        }
      ]
    },
    {
      "cell_type": "code",
      "source": [
        "!pip install plotly"
      ],
      "metadata": {
        "colab": {
          "base_uri": "https://localhost:8080/"
        },
        "id": "kUTA7cOxySDV",
        "outputId": "aad37267-2463-4dea-945d-1788579e2a5e"
      },
      "execution_count": 116,
      "outputs": [
        {
          "output_type": "stream",
          "name": "stdout",
          "text": [
            "Requirement already satisfied: plotly in /usr/local/lib/python3.10/dist-packages (5.13.1)\n",
            "Requirement already satisfied: tenacity>=6.2.0 in /usr/local/lib/python3.10/dist-packages (from plotly) (8.2.2)\n"
          ]
        }
      ]
    },
    {
      "cell_type": "code",
      "source": [
        "# save data as hive table\n",
        "data1=full_data.write.saveAsTable('footballdata')"
      ],
      "metadata": {
        "id": "g9gl822NFrKe"
      },
      "execution_count": 122,
      "outputs": []
    },
    {
      "cell_type": "code",
      "source": [
        "# show databases\n",
        "spark.sql(\"show databases\").show()"
      ],
      "metadata": {
        "colab": {
          "base_uri": "https://localhost:8080/"
        },
        "id": "uDDewlb1ZZNq",
        "outputId": "1d5ed734-b1bb-4892-c89e-8a4c28cb0a5e"
      },
      "execution_count": 125,
      "outputs": [
        {
          "output_type": "stream",
          "name": "stdout",
          "text": [
            "+---------+\n",
            "|namespace|\n",
            "+---------+\n",
            "|  default|\n",
            "+---------+\n",
            "\n"
          ]
        }
      ]
    },
    {
      "cell_type": "code",
      "source": [
        "# show tables\n",
        "spark.sql(\"show tables\").show()"
      ],
      "metadata": {
        "colab": {
          "base_uri": "https://localhost:8080/"
        },
        "id": "CAXpdXIrbDXz",
        "outputId": "b0f0a4ac-06a9-457d-cfc6-8065062a9775"
      },
      "execution_count": 126,
      "outputs": [
        {
          "output_type": "stream",
          "name": "stdout",
          "text": [
            "+---------+------------+-----------+\n",
            "|namespace|   tableName|isTemporary|\n",
            "+---------+------------+-----------+\n",
            "|  default|footballdata|      false|\n",
            "+---------+------------+-----------+\n",
            "\n"
          ]
        }
      ]
    },
    {
      "cell_type": "code",
      "source": [
        "# Find the top 20 countries which produce the highest no of players\n",
        "data_sql=spark.sql(\"\"\"SELECT nationality,count(*)\n",
        "                               AS Total_Players\n",
        "                                  FROM footballdata\n",
        "                                    GROUP BY nationality\n",
        "                                       ORDER BY count(*) DESC,nationality LIMIT 20 \"\"\")\n",
        "data_sql.show()"
      ],
      "metadata": {
        "colab": {
          "base_uri": "https://localhost:8080/"
        },
        "id": "VFjPJY-UbUJW",
        "outputId": "0b701ba5-8e75-4869-cebf-dd97b4005aa7"
      },
      "execution_count": 146,
      "outputs": [
        {
          "output_type": "stream",
          "name": "stdout",
          "text": [
            "+-------------------+-------------+\n",
            "|        nationality|Total_Players|\n",
            "+-------------------+-------------+\n",
            "|            England|         1618|\n",
            "|          Argentina|         1097|\n",
            "|              Spain|         1008|\n",
            "|             France|          974|\n",
            "|             Brazil|          921|\n",
            "|              Italy|          751|\n",
            "|            Germany|          689|\n",
            "|           Colombia|          592|\n",
            "|              Japan|          471|\n",
            "|Republic of Ireland|          442|\n",
            "|        Netherlands|          426|\n",
            "|              Chile|          398|\n",
            "|             Sweden|          378|\n",
            "|           Portugal|          360|\n",
            "|       Saudi Arabia|          354|\n",
            "|            Denmark|          342|\n",
            "|             Norway|          342|\n",
            "|             Mexico|          341|\n",
            "|      United States|          332|\n",
            "|             Poland|          328|\n",
            "+-------------------+-------------+\n",
            "\n"
          ]
        }
      ]
    },
    {
      "cell_type": "code",
      "source": [
        "# Find the top 20 countries which produce the highest no of players\n",
        "data_sql_penalties=spark.sql(\"\"\"SELECT nationality,sum(penalties)\n",
        "                               AS Total_Penalties\n",
        "                                  FROM footballdata\n",
        "                                    GROUP BY nationality\n",
        "                                       ORDER BY sum(penalties) DESC,nationality LIMIT 20 \"\"\")\n",
        "data_sql_penalties.show()"
      ],
      "metadata": {
        "colab": {
          "base_uri": "https://localhost:8080/"
        },
        "id": "8KXLbaVZb8It",
        "outputId": "11ce5243-590c-4081-f16a-7711112e44e4"
      },
      "execution_count": 150,
      "outputs": [
        {
          "output_type": "stream",
          "name": "stdout",
          "text": [
            "+-------------------+---------------+\n",
            "|        nationality|Total_Penalties|\n",
            "+-------------------+---------------+\n",
            "|            England|          77059|\n",
            "|          Argentina|          56369|\n",
            "|              Spain|          52113|\n",
            "|             Brazil|          50937|\n",
            "|             France|          48405|\n",
            "|              Italy|          36183|\n",
            "|            Germany|          33095|\n",
            "|           Colombia|          28605|\n",
            "|        Netherlands|          21163|\n",
            "|              Japan|          20549|\n",
            "|Republic of Ireland|          20500|\n",
            "|              Chile|          18886|\n",
            "|           Portugal|          18776|\n",
            "|             Mexico|          17648|\n",
            "|             Sweden|          16936|\n",
            "|             Norway|          15728|\n",
            "|       Saudi Arabia|          15424|\n",
            "|      United States|          15273|\n",
            "|             Russia|          15259|\n",
            "|             Poland|          15141|\n",
            "+-------------------+---------------+\n",
            "\n"
          ]
        }
      ]
    },
    {
      "cell_type": "code",
      "source": [
        "# join the two datasets using inner join\n",
        "data_sql_merge=data_sql.join(data_sql_penalties,how=\"inner\",on=\"nationality\")"
      ],
      "metadata": {
        "id": "CtCwqoIsgcrU"
      },
      "execution_count": 153,
      "outputs": []
    },
    {
      "cell_type": "code",
      "source": [
        "# sort the data on counts\n",
        "data_sql_merge.orderBy(['Total_Players','Total_Penalties'],ascending=False).show()"
      ],
      "metadata": {
        "colab": {
          "base_uri": "https://localhost:8080/"
        },
        "id": "qltHfkZzhno8",
        "outputId": "89942b13-4918-4e8f-d54c-d5b68fa626e0"
      },
      "execution_count": 155,
      "outputs": [
        {
          "output_type": "stream",
          "name": "stdout",
          "text": [
            "+-------------------+-------------+---------------+\n",
            "|        nationality|Total_Players|Total_Penalties|\n",
            "+-------------------+-------------+---------------+\n",
            "|            England|         1618|          77059|\n",
            "|          Argentina|         1097|          56369|\n",
            "|              Spain|         1008|          52113|\n",
            "|             France|          974|          48405|\n",
            "|             Brazil|          921|          50937|\n",
            "|              Italy|          751|          36183|\n",
            "|            Germany|          689|          33095|\n",
            "|           Colombia|          592|          28605|\n",
            "|              Japan|          471|          20549|\n",
            "|Republic of Ireland|          442|          20500|\n",
            "|        Netherlands|          426|          21163|\n",
            "|              Chile|          398|          18886|\n",
            "|             Sweden|          378|          16936|\n",
            "|           Portugal|          360|          18776|\n",
            "|       Saudi Arabia|          354|          15424|\n",
            "|             Norway|          342|          15728|\n",
            "|             Mexico|          341|          17648|\n",
            "|      United States|          332|          15273|\n",
            "|             Poland|          328|          15141|\n",
            "+-------------------+-------------+---------------+\n",
            "\n"
          ]
        }
      ]
    },
    {
      "cell_type": "code",
      "source": [],
      "metadata": {
        "id": "Vu4eHPc3j1p2"
      },
      "execution_count": null,
      "outputs": []
    }
  ]
}