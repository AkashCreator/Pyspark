{
  "nbformat": 4,
  "nbformat_minor": 0,
  "metadata": {
    "colab": {
      "provenance": [],
      "authorship_tag": "ABX9TyOWv+WhqTrTqGu9XGE/OEMv",
      "include_colab_link": true
    },
    "kernelspec": {
      "name": "python3",
      "display_name": "Python 3"
    },
    "language_info": {
      "name": "python"
    }
  },
  "cells": [
    {
      "cell_type": "markdown",
      "metadata": {
        "id": "view-in-github",
        "colab_type": "text"
      },
      "source": [
        "<a href=\"https://colab.research.google.com/github/AkashCreator/Pyspark/blob/main/Pyspark_Football.ipynb\" target=\"_parent\"><img src=\"https://colab.research.google.com/assets/colab-badge.svg\" alt=\"Open In Colab\"/></a>"
      ]
    },
    {
      "cell_type": "code",
      "execution_count": 96,
      "metadata": {
        "colab": {
          "base_uri": "https://localhost:8080/"
        },
        "id": "_dTzV5Z5hyi8",
        "outputId": "a4a3c3a6-ec1e-44b8-e5a7-e29b1af72596"
      },
      "outputs": [
        {
          "output_type": "stream",
          "name": "stdout",
          "text": [
            "Requirement already satisfied: pyspark in /usr/local/lib/python3.10/dist-packages (3.4.1)\n",
            "Requirement already satisfied: py4j==0.10.9.7 in /usr/local/lib/python3.10/dist-packages (from pyspark) (0.10.9.7)\n"
          ]
        }
      ],
      "source": [
        "# install pyspark\n",
        "!pip install pyspark"
      ]
    },
    {
      "cell_type": "code",
      "source": [
        "# read dataset using Sparksession\n",
        "from pyspark.sql import SparkSession\n",
        "spark=SparkSession.builder.appName(\"football\").getOrCreate()"
      ],
      "metadata": {
        "id": "K-ZiSMVKiKGd"
      },
      "execution_count": 97,
      "outputs": []
    },
    {
      "cell_type": "code",
      "source": [
        "#display spark session\n",
        "spark"
      ],
      "metadata": {
        "colab": {
          "base_uri": "https://localhost:8080/",
          "height": 219
        },
        "id": "YM4LTkepjlZJ",
        "outputId": "48dd93a6-3a71-4998-9424-f63634904805"
      },
      "execution_count": 98,
      "outputs": [
        {
          "output_type": "execute_result",
          "data": {
            "text/plain": [
              "<pyspark.sql.session.SparkSession at 0x7bec962ac790>"
            ],
            "text/html": [
              "\n",
              "            <div>\n",
              "                <p><b>SparkSession - in-memory</b></p>\n",
              "                \n",
              "        <div>\n",
              "            <p><b>SparkContext</b></p>\n",
              "\n",
              "            <p><a href=\"http://5a4dd2666b17:4040\">Spark UI</a></p>\n",
              "\n",
              "            <dl>\n",
              "              <dt>Version</dt>\n",
              "                <dd><code>v3.4.1</code></dd>\n",
              "              <dt>Master</dt>\n",
              "                <dd><code>local[*]</code></dd>\n",
              "              <dt>AppName</dt>\n",
              "                <dd><code>football</code></dd>\n",
              "            </dl>\n",
              "        </div>\n",
              "        \n",
              "            </div>\n",
              "        "
            ]
          },
          "metadata": {},
          "execution_count": 98
        }
      ]
    },
    {
      "cell_type": "code",
      "source": [
        "#read football main dataset and show stats\n",
        "full_data=spark.read.csv('./football_analysis/FullData.csv',header=True,inferSchema=True)\n",
        "full_data.summary().show()"
      ],
      "metadata": {
        "colab": {
          "base_uri": "https://localhost:8080/"
        },
        "id": "KO2xHH7-jyh-",
        "outputId": "dc2df534-4f12-43ed-a50f-788078ccc3b4"
      },
      "execution_count": 99,
      "outputs": [
        {
          "output_type": "stream",
          "name": "stdout",
          "text": [
            "+-------+----------------+-----------+-----------------+-----------------+----------------+-------------+------------------+------------+------------------+-----------------+------+------+--------------+----------+------------------+------------------+---------------+------------------+------------------+------------------+------------------+-----------------+------------------+------------------+------------------+-----------------+------------------+-----------------+------------------+------------------+------------------+------------------+------------------+------------------+------------------+------------------+------------------+------------------+------------------+------------------+------------------+------------------+------------------+------------------+-----------------+------------------+------------------+-----------------+-----------------+-----------------+------------------+------------------+------------------+\n",
            "|summary|            Name|Nationality|National_Position|     National_Kit|            Club|Club_Position|          Club_Kit|Club_Joining|   Contract_Expiry|           Rating|Height|Weight|Preffered_Foot|Birth_Date|               Age|Preffered_Position|      Work_Rate|         Weak_foot|       Skill_Moves|      Ball_Control|         Dribbling|          Marking|    Sliding_Tackle|   Standing_Tackle|        Aggression|        Reactions|Attacking_Position|    Interceptions|            Vision|         Composure|          Crossing|        Short_Pass|         Long_Pass|      Acceleration|             Speed|           Stamina|          Strength|           Balance|           Agility|           Jumping|           Heading|        Shot_Power|         Finishing|        Long_Shots|            Curve| Freekick_Accuracy|         Penalties|          Volleys|   GK_Positioning|        GK_Diving|        GK_Kicking|       GK_Handling|       GK_Reflexes|\n",
            "+-------+----------------+-----------+-----------------+-----------------+----------------+-------------+------------------+------------+------------------+-----------------+------+------+--------------+----------+------------------+------------------+---------------+------------------+------------------+------------------+------------------+-----------------+------------------+------------------+------------------+-----------------+------------------+-----------------+------------------+------------------+------------------+------------------+------------------+------------------+------------------+------------------+------------------+------------------+------------------+------------------+------------------+------------------+------------------+------------------+-----------------+------------------+------------------+-----------------+-----------------+-----------------+------------------+------------------+------------------+\n",
            "|  count|           17588|      17588|             1075|             1075|           17588|        17587|             17587|       17587|             17587|            17588| 17588| 17588|         17588|     17588|             17588|             17588|          17588|             17588|             17588|             17588|             17588|            17588|             17588|             17588|             17588|            17588|             17588|            17588|             17588|             17588|             17588|             17588|             17588|             17588|             17588|             17588|             17588|             17588|             17588|             17588|             17588|             17588|             17588|             17588|            17588|             17588|             17588|            17588|            17588|            17588|             17588|             17588|             17588|\n",
            "|   mean|            null|       null|             null|12.21953488372093|            null|         null|21.294535736623644|        null|2018.8994143401376|66.16619285876735|  null|  null|          null|      null|25.460313850352513|              null|           null|2.9341027973618377|2.3031612463042985| 57.97276552194678| 54.80287696156471|44.23032749602002| 45.56549920400273| 47.44109620195588| 55.92017284512168|61.77058221514669|49.592051398680915|46.79406413463725|52.707869001591995| 55.85313850352513| 49.74107345917671| 58.11979758926541|52.396065499204006| 65.28786672731408| 65.48385262679099| 63.47691607914487| 65.08585399135774| 64.00881282692745| 63.20673186263361| 64.91852399363202| 52.39310893791221|55.581191721628386| 45.15760745963156| 47.40317261769388|47.18114623607005| 43.38344325676598| 49.16573800318399|43.27558562656357| 16.6096201955879|16.82306117807596|16.458323857175348|16.559813509210827|16.901182624516714|\n",
            "| stddev|            null|       null|             null|6.933186712887216|            null|         null|19.163740902120328|        null|1.6987874397242104|7.083011910808598|  null|  null|          null|      null| 4.680217413869141|              null|           null| 0.655926576488848|0.7461561335585832|16.834779141602063|18.913856927552217|21.56170286366945|21.515178683786196|21.827815177394776|17.445464371518423|9.275210372200354| 19.40708666246652|20.49471458129605| 14.58944611175663|13.485994404424476|18.457977316700244|14.982582307016756|15.616070556313117|14.436295831413878|14.100614851107773|15.477376758689475|12.532989073544742|13.720287806498058|14.618163324413052|11.430806830380547|17.473703194740338|17.600154972744576|19.374428000510303|19.211887239466655|18.46439603587325|17.701902992977164|15.871735042516146|17.71083867546305|17.13990350837133|17.79805177156695|16.600741103484737|16.967255592321123|18.034484658944706|\n",
            "|    min|  A.J. DeLaGarza|Afghanistan|              CAM|              1.0|1. FC Heidenheim|          CAM|               1.0|  01/01/1993|            2017.0|               45|155 cm|100 kg|          Left|01/01/1982|                17|               CAM|    High / High|                 1|                 1|                 5|                 4|                3|                 5|                 3|                 2|               29|                 2|                3|                10|                 5|                 6|                10|                 7|                11|                11|                10|                20|                10|                11|                15|                 4|                 3|                 2|                 4|                6|                 4|                 7|                3|                1|                1|                 1|                 1|                 1|\n",
            "|    25%|            null|       null|             null|              6.0|            null|         null|               9.0|        null|            2017.0|               62|  null|  null|          null|      null|                22|              null|           null|                 3|                 2|                53|                47|               22|                23|                26|                44|               55|                37|               26|                43|                47|                38|                52|                42|                57|                58|                57|                57|                56|                55|                58|                45|                45|                29|                32|               34|                31|                39|               30|                8|                8|                 8|                 8|                 8|\n",
            "|    50%|            null|       null|             null|             12.0|            null|         null|              18.0|        null|            2019.0|               66|  null|  null|          null|      null|                25|              null|           null|                 3|                 2|                63|                60|               48|                51|                54|                59|               62|                54|               52|                54|                57|                54|                62|                56|                68|                68|                66|                66|                65|                65|                65|                56|                59|                48|                52|               48|                42|                50|               44|               11|               11|                11|                11|                11|\n",
            "|    75%|            null|       null|             null|             18.0|            null|         null|              27.0|        null|            2020.0|               71|  null|  null|          null|      null|                29|              null|           null|                 3|                 3|                69|                68|               64|                64|                66|                70|               68|                64|               64|                64|                66|                64|                68|                64|                75|                75|                74|                74|                74|                74|                73|                65|                69|                61|                63|               62|                57|                61|               57|               14|               14|                14|                14|                14|\n",
            "|    max|Željko Filipović|   Zimbabwe|              Sub|             36.0|   Śląsk Wrocław|          Sub|              99.0|  12/31/2016|            2023.0|               94|207 cm| 99 kg|         Right|12/31/1998|                47|            ST/RWB|Medium / Medium|                 5|                 5|                95|                97|               92|                95|                92|                96|               96|                94|               93|                94|                94|                91|                92|                93|                96|                96|                95|                98|                97|                96|                95|                94|                93|                95|                91|               92|                93|                96|               93|               91|               89|                95|                91|                90|\n",
            "+-------+----------------+-----------+-----------------+-----------------+----------------+-------------+------------------+------------+------------------+-----------------+------+------+--------------+----------+------------------+------------------+---------------+------------------+------------------+------------------+------------------+-----------------+------------------+------------------+------------------+-----------------+------------------+-----------------+------------------+------------------+------------------+------------------+------------------+------------------+------------------+------------------+------------------+------------------+------------------+------------------+------------------+------------------+------------------+------------------+-----------------+------------------+------------------+-----------------+-----------------+-----------------+------------------+------------------+------------------+\n",
            "\n"
          ]
        }
      ]
    },
    {
      "cell_type": "markdown",
      "source": [
        "# Below are some of the observations made after running summary command\n",
        "\n",
        "  \n",
        "1.   There is one entry where we dont have data for Club_Position and some other parameters\n",
        "2.   Minimum age of the player is 17(kinda expected) and max age is 47 which is bit odd\n",
        "3.   Minimum weight is coming as 100 kg and Maximum weight is coming as 99 kg which is absurd(so more analysis is required here to identify rootcause)\n",
        "4.   Contract expiry year is coming as Float so needs some formatting"
      ],
      "metadata": {
        "id": "YDnvF0f5qu66"
      }
    },
    {
      "cell_type": "code",
      "source": [
        "#read sample data\n",
        "full_data.sample(withReplacement=False,fraction=0.1).show()"
      ],
      "metadata": {
        "colab": {
          "base_uri": "https://localhost:8080/"
        },
        "id": "koJYM98LkFgN",
        "outputId": "dfd43fd7-7aa9-45da-8038-cf23670fa109"
      },
      "execution_count": 100,
      "outputs": [
        {
          "output_type": "stream",
          "name": "stdout",
          "text": [
            "+-------------------+-----------+-----------------+------------+---------------+-------------+--------+------------+---------------+------+------+------+--------------+----------+---+------------------+---------------+---------+-----------+------------+---------+-------+--------------+---------------+----------+---------+------------------+-------------+------+---------+--------+----------+---------+------------+-----+-------+--------+-------+-------+-------+-------+----------+---------+----------+-----+-----------------+---------+-------+--------------+---------+----------+-----------+-----------+\n",
            "|               Name|Nationality|National_Position|National_Kit|           Club|Club_Position|Club_Kit|Club_Joining|Contract_Expiry|Rating|Height|Weight|Preffered_Foot|Birth_Date|Age|Preffered_Position|      Work_Rate|Weak_foot|Skill_Moves|Ball_Control|Dribbling|Marking|Sliding_Tackle|Standing_Tackle|Aggression|Reactions|Attacking_Position|Interceptions|Vision|Composure|Crossing|Short_Pass|Long_Pass|Acceleration|Speed|Stamina|Strength|Balance|Agility|Jumping|Heading|Shot_Power|Finishing|Long_Shots|Curve|Freekick_Accuracy|Penalties|Volleys|GK_Positioning|GK_Diving|GK_Kicking|GK_Handling|GK_Reflexes|\n",
            "+-------------------+-----------+-----------------+------------+---------------+-------------+--------+------------+---------------+------+------+------+--------------+----------+---+------------------+---------------+---------+-----------+------------+---------+-------+--------------+---------------+----------+---------+------------------+-------------+------+---------+--------+----------+---------+------------+-----+-------+--------+-------+-------+-------+-------+----------+---------+----------+-----+-----------------+---------+-------+--------------+---------+----------+-----------+-----------+\n",
            "|  Cristiano Ronaldo|   Portugal|               LS|         7.0|    Real Madrid|           LW|     7.0|  07/01/2009|         2021.0|    94|185 cm| 80 kg|         Right|02/05/1985| 32|             LW/ST|     High / Low|        4|          5|          93|       92|     22|            23|             31|        63|       96|                94|           29|    85|       86|      84|        83|       77|          91|   92|     92|      80|     63|     90|     95|     85|        92|       93|        90|   81|               76|       85|     88|            14|        7|        15|         11|         11|\n",
            "|         Toni Kroos|    Germany|              LDM|         8.0|    Real Madrid|          LCM|     8.0|  07/17/2014|         2022.0|    88|182 cm| 78 kg|         Right|01/04/1990| 27|            CM/CDM|Medium / Medium|        5|          3|          85|       78|     63|            65|             75|        60|       85|                76|           77|    88|       85|      85|        89|       93|          55|   37|     78|      74|     62|     70|     34|     54|        87|       75|        88|   85|               84|       73|     82|             7|       10|        13|         11|         10|\n",
            "|               Pepe|   Portugal|              RCB|         3.0|    Real Madrid|          RCB|     3.0|  07/01/2007|         2017.0|    88|188 cm| 81 kg|         Right|02/26/1983| 34|                CB|  Medium / High|        3|          2|          62|       58|     88|            89|             87|        94|       84|                40|           88|    48|       68|      46|        70|       61|          65|   75|     64|      84|     49|     63|     76|     82|        63|       46|        56|   44|               47|       57|     23|             9|        8|         5|         15|         10|\n",
            "|       Arturo Vidal|      Chile|              CDM|         8.0|      FC Bayern|          LDM|    23.0|  07/28/2015|         2019.0|    87|180 cm| 75 kg|         Right|05/22/1987| 29|            CM/CDM|    High / High|        4|          3|          83|       76|     76|            84|             89|        91|       89|                80|           89|    80|       86|      76|        84|       82|          77|   74|     93|      79|     77|     75|     82|     81|        84|       77|        85|   76|               68|       84|     78|             2|        4|         4|          2|          4|\n",
            "|       Ivan Rakitić|    Croatia|             null|        null|   FC Barcelona|          CAM|     4.0|  06/24/2014|         2021.0|    87|184 cm| 78 kg|         Right|03/10/1988| 29|                CM|Medium / Medium|        3|          3|          87|       84|     52|            53|             65|        67|       79|                80|           69|    87|       81|      81|        87|       92|          67|   65|     76|      63|     66|     71|     51|     58|        84|       83|        88|   88|               84|       78|     80|             5|       14|        12|         11|          9|\n",
            "|           Coutinho|     Brazil|               RW|        11.0|      Liverpool|           LW|    10.0|  01/30/2013|         2022.0|    86|171 cm| 68 kg|         Right|06/12/1992| 24|            LW/CAM|    High / High|        4|          4|          88|       88|     24|            40|             44|        55|       81|                83|           30|    87|       79|      77|        85|       78|          89|   77|     79|      61|     91|     91|     59|     47|        79|       73|        85|   84|               79|       64|     75|            14|       12|         9|          7|          6|\n",
            "|Alexandre Lacazette|     France|             null|        null| Olym. Lyonnais|           ST|    10.0|  07/01/2009|         2019.0|    85|175 cm| 73 kg|         Right|05/28/1991| 25|                ST|  High / Medium|        4|          4|          84|       85|     23|            30|             42|        70|       85|                87|           40|    77|       86|      70|        80|       68|          84|   87|     80|      79|     84|     87|     78|     76|        81|       87|        74|   74|               78|       84|     82|             5|       11|         9|          6|          6|\n",
            "|       Keylor Navas| Costa Rica|             null|        null|    Real Madrid|           GK|     1.0|  08/04/2014|         2020.0|    85|185 cm| 78 kg|         Right|12/15/1986| 30|                GK|Medium / Medium|        3|          1|          19|       16|     12|            14|             14|        32|       82|                16|           20|    54|       49|      11|        30|       37|          54|   53|     39|      75|     61|     60|     74|     11|        21|       15|        13|   11|               15|       25|     11|            80|       87|        72|         82|         85|\n",
            "|     İlkay Gündoğan|    Germany|             null|        null|Manchester City|          Sub|     8.0|  07/01/2016|         2020.0|    85|180 cm| 80 kg|         Right|10/24/1990| 26|            CM/CDM|  High / Medium|        4|          4|          88|       87|     57|            64|             64|        68|       87|                77|           79|    87|       86|      74|        90|       83|          77|   74|     73|      74|     83|     85|     62|     49|        77|       69|        74|   81|               74|       76|     75|             5|       11|         5|         14|         13|\n",
            "|          Juan Mata|      Spain|             null|        null| Manchester Utd|          Sub|     8.0|  01/25/2014|         2018.0|    85|170 cm| 63 kg|          Left|04/28/1988| 28|            CAM/CM|Medium / Medium|        3|          3|          88|       83|     25|            21|             28|        52|       85|                84|           39|    87|       85|      83|        86|       77|          75|   63|     74|      43|     89|     89|     72|     63|        75|       80|        70|   84|               84|       81|     71|             5|        9|        14|         10|          8|\n",
            "|     Kostas Manolas|     Greece|              LCB|         4.0|           Roma|          RCB|    44.0|  08/26/2014|         2019.0|    84|189 cm| 83 kg|         Right|06/14/1991| 25|                CB|  Medium / High|        2|          2|          65|       54|     88|            87|             86|        86|       81|                25|           85|    22|       75|      27|        60|       61|          79|   80|     79|      84|     60|     69|     86|     80|        43|       10|        12|   30|               10|       26|     16|            15|        8|         8|          6|         12|\n",
            "|   Shkodran Mustafi|    Germany|              Sub|         2.0|        Arsenal|          RCB|    20.0|  08/30/2016|         2021.0|    84|184 cm| 82 kg|         Right|04/17/1992| 24|                CB|  Medium / High|        3|          2|          70|       53|     82|            85|             83|        79|       81|                50|           85|    55|       71|      51|        77|       69|          67|   73|     74|      81|     69|     66|     85|     81|        66|       58|        52|   55|               47|       54|     51|            10|       11|        15|          9|          6|\n",
            "|      Ralf Fährmann|    Germany|             null|        null|  FC Schalke 04|           GK|     1.0|  07/01/2011|         2020.0|    84|196 cm| 95 kg|         Right|09/27/1988| 28|                GK|Medium / Medium|        2|          1|          24|       15|     12|            10|             12|        36|       84|                11|           23|    42|       61|      14|        25|       26|          38|   47|     32|      79|     36|     39|     72|     14|        24|       11|         9|   18|               11|       21|     11|            85|       83|        51|         86|         87|\n",
            "|         João Mário|   Portugal|               LM|        10.0|          Inter|          Sub|     6.0|  08/28/2016|         2021.0|    83|179 cm| 73 kg|         Right|01/19/1993| 24|            CM/CAM|  Medium / High|        4|          3|          85|       84|     67|            61|             75|        61|       82|                80|           78|    82|       85|      77|        83|       78|          75|   77|     88|      69|     70|     81|     63|     55|        77|       72|        73|   74|               67|       66|     69|             8|        6|         8|         15|          8|\n",
            "|       Carlos Bacca|   Colombia|               ST|         7.0|          Milan|           ST|    70.0|  07/10/2015|         2020.0|    83|181 cm| 77 kg|         Right|09/08/1986| 30|                ST|   Medium / Low|        2|          3|          80|       80|     12|            14|             16|        68|       82|                87|           34|    66|       80|      60|        72|       50|          83|   83|     74|      76|     75|     78|     77|     76|        78|       88|        70|   72|               58|       79|     82|             5|       12|         8|         12|          8|\n",
            "|    Karim Bellarabi|    Germany|             null|        null|       Bayer 04|           RM|    38.0|  07/01/2011|         2021.0|    83|183 cm| 80 kg|         Right|04/08/1990| 26|                RM|    High / High|        3|          4|          84|       87|     28|            33|             30|        59|       81|                80|           38|    79|       72|      78|        81|       62|          91|   90|     76|      68|     78|     87|     75|     48|        85|       75|        78|   70|               58|       57|     72|            11|       10|         7|         12|         10|\n",
            "|     Danilo Pereira|   Portugal|              Sub|        13.0|       FC Porto|          CDM|    22.0|  07/02/2015|         2022.0|    83|188 cm| 83 kg|         Right|09/09/1991| 25|               CDM|  Medium / High|        3|          2|          77|       77|     80|            78|             85|        89|       77|                68|           85|    69|       83|      50|        81|       79|          67|   69|     89|      89|     60|     58|     67|     77|        77|       56|        64|   48|               53|       52|     56|            14|        9|        13|          7|         15|\n",
            "|    Łukasz Piszczek|     Poland|               RB|        20.0|  Bor. Dortmund|          RCB|    26.0|  07/01/2010|         2018.0|    83|184 cm| 78 kg|         Right|06/03/1985| 31|             RB/CB|Medium / Medium|        3|          2|          76|       74|     79|            83|             84|        83|       82|                73|           81|    72|       82|      85|        78|       69|          75|   80|     79|      79|     67|     67|     76|     74|        77|       65|        68|   76|               47|       65|     67|             6|       14|        14|         11|         12|\n",
            "|     Ezequiel Garay|  Argentina|             null|        null|    Valencia CF|          RCB|    24.0|  08/31/2016|         2020.0|    83|188 cm| 77 kg|         Right|10/10/1986| 30|                CB|Medium / Medium|        3|          2|          73|       62|     84|            82|             85|        74|       77|                49|           84|    63|       79|      62|        69|       72|          50|   54|     75|      85|     38|     57|     71|     85|        80|       58|        68|   55|               74|       69|     49|            13|       14|        13|          6|         14|\n",
            "|      Marco Asensio|      Spain|             null|        null|    Real Madrid|          Sub|    20.0|  01/22/2015|         2021.0|    82|178 cm| 70 kg|          Left|01/21/1996| 21|         CAM/LM/LW|Medium / Medium|        3|          4|          85|       82|     30|            41|             45|        45|       78|                72|           45|    83|       78|      80|        86|       81|          81|   78|     74|      62|     76|     79|     58|     50|        67|       75|        78|   84|               76|       62|     76|            12|       13|         6|          9|         10|\n",
            "+-------------------+-----------+-----------------+------------+---------------+-------------+--------+------------+---------------+------+------+------+--------------+----------+---+------------------+---------------+---------+-----------+------------+---------+-------+--------------+---------------+----------+---------+------------------+-------------+------+---------+--------+----------+---------+------------+-----+-------+--------+-------+-------+-------+-------+----------+---------+----------+-----+-----------------+---------+-------+--------------+---------+----------+-----------+-----------+\n",
            "only showing top 20 rows\n",
            "\n"
          ]
        }
      ]
    },
    {
      "cell_type": "code",
      "source": [
        "#display schema\n",
        "full_data.dtypes"
      ],
      "metadata": {
        "colab": {
          "base_uri": "https://localhost:8080/"
        },
        "id": "5dej_WVSmVDi",
        "outputId": "a2c19fe9-91f9-4b9c-803b-dec1af8e525a"
      },
      "execution_count": 101,
      "outputs": [
        {
          "output_type": "execute_result",
          "data": {
            "text/plain": [
              "[('Name', 'string'),\n",
              " ('Nationality', 'string'),\n",
              " ('National_Position', 'string'),\n",
              " ('National_Kit', 'double'),\n",
              " ('Club', 'string'),\n",
              " ('Club_Position', 'string'),\n",
              " ('Club_Kit', 'double'),\n",
              " ('Club_Joining', 'string'),\n",
              " ('Contract_Expiry', 'double'),\n",
              " ('Rating', 'int'),\n",
              " ('Height', 'string'),\n",
              " ('Weight', 'string'),\n",
              " ('Preffered_Foot', 'string'),\n",
              " ('Birth_Date', 'string'),\n",
              " ('Age', 'int'),\n",
              " ('Preffered_Position', 'string'),\n",
              " ('Work_Rate', 'string'),\n",
              " ('Weak_foot', 'int'),\n",
              " ('Skill_Moves', 'int'),\n",
              " ('Ball_Control', 'int'),\n",
              " ('Dribbling', 'int'),\n",
              " ('Marking', 'int'),\n",
              " ('Sliding_Tackle', 'int'),\n",
              " ('Standing_Tackle', 'int'),\n",
              " ('Aggression', 'int'),\n",
              " ('Reactions', 'int'),\n",
              " ('Attacking_Position', 'int'),\n",
              " ('Interceptions', 'int'),\n",
              " ('Vision', 'int'),\n",
              " ('Composure', 'int'),\n",
              " ('Crossing', 'int'),\n",
              " ('Short_Pass', 'int'),\n",
              " ('Long_Pass', 'int'),\n",
              " ('Acceleration', 'int'),\n",
              " ('Speed', 'int'),\n",
              " ('Stamina', 'int'),\n",
              " ('Strength', 'int'),\n",
              " ('Balance', 'int'),\n",
              " ('Agility', 'int'),\n",
              " ('Jumping', 'int'),\n",
              " ('Heading', 'int'),\n",
              " ('Shot_Power', 'int'),\n",
              " ('Finishing', 'int'),\n",
              " ('Long_Shots', 'int'),\n",
              " ('Curve', 'int'),\n",
              " ('Freekick_Accuracy', 'int'),\n",
              " ('Penalties', 'int'),\n",
              " ('Volleys', 'int'),\n",
              " ('GK_Positioning', 'int'),\n",
              " ('GK_Diving', 'int'),\n",
              " ('GK_Kicking', 'int'),\n",
              " ('GK_Handling', 'int'),\n",
              " ('GK_Reflexes', 'int')]"
            ]
          },
          "metadata": {},
          "execution_count": 101
        }
      ]
    },
    {
      "cell_type": "markdown",
      "source": [
        "First we will analyse the weight data"
      ],
      "metadata": {
        "id": "nYL76KyKtL-Y"
      }
    },
    {
      "cell_type": "code",
      "source": [
        "#As expected we are getting min as 100 because of kg in the column data so we will remove it to allow better analysis\n",
        "full_data.select('Weight').distinct().orderBy('Weight',ascending=False).show()"
      ],
      "metadata": {
        "colab": {
          "base_uri": "https://localhost:8080/"
        },
        "id": "R9obSWeOqS7A",
        "outputId": "a71bffdb-86a2-40c9-b8b6-720c41f262bd"
      },
      "execution_count": 102,
      "outputs": [
        {
          "output_type": "stream",
          "name": "stdout",
          "text": [
            "+------+\n",
            "|Weight|\n",
            "+------+\n",
            "| 99 kg|\n",
            "| 98 kg|\n",
            "| 97 kg|\n",
            "| 96 kg|\n",
            "| 95 kg|\n",
            "| 94 kg|\n",
            "| 93 kg|\n",
            "| 92 kg|\n",
            "| 91 kg|\n",
            "| 90 kg|\n",
            "| 89 kg|\n",
            "| 88 kg|\n",
            "| 87 kg|\n",
            "| 86 kg|\n",
            "| 85 kg|\n",
            "| 84 kg|\n",
            "| 83 kg|\n",
            "| 82 kg|\n",
            "| 81 kg|\n",
            "| 80 kg|\n",
            "+------+\n",
            "only showing top 20 rows\n",
            "\n"
          ]
        }
      ]
    },
    {
      "cell_type": "code",
      "source": [
        "#import sql functions from pyspark library\n",
        "#replace ' kg' string to empty\n",
        "#type string data to Int and then display the sorted data to ensure its formatted correctly\n",
        "from pyspark.sql.functions import *\n",
        "full_data=full_data.withColumn('Weight',regexp_replace('Weight',' kg',''))\n",
        "full_data.withColumn('Weight',full_data.Weight.cast('Integer'))\\\n",
        ".select('Weight').orderBy('Weight',ascending=False)\\\n",
        ".head(5)"
      ],
      "metadata": {
        "colab": {
          "base_uri": "https://localhost:8080/"
        },
        "id": "Xxo1wTL-to3P",
        "outputId": "3032aec0-308f-4c29-df2a-bb480f1ff21e"
      },
      "execution_count": 103,
      "outputs": [
        {
          "output_type": "execute_result",
          "data": {
            "text/plain": [
              "[Row(Weight=110),\n",
              " Row(Weight=110),\n",
              " Row(Weight=107),\n",
              " Row(Weight=102),\n",
              " Row(Weight=102)]"
            ]
          },
          "metadata": {},
          "execution_count": 103
        }
      ]
    },
    {
      "cell_type": "markdown",
      "source": [
        "# \"Above weight data confirms that formatting has been done correctly and now can be used for any analysis/aggregates\""
      ],
      "metadata": {
        "id": "d3w_Ytd20jmc"
      }
    },
    {
      "cell_type": "code",
      "source": [],
      "metadata": {
        "id": "4XIgBLB71pO3"
      },
      "execution_count": 103,
      "outputs": []
    }
  ]
}