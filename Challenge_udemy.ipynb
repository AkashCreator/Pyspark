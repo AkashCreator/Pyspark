{
  "nbformat": 4,
  "nbformat_minor": 0,
  "metadata": {
    "colab": {
      "provenance": [],
      "authorship_tag": "ABX9TyN2TdymdKoWsoLUKwst3W1D",
      "include_colab_link": true
    },
    "kernelspec": {
      "name": "python3",
      "display_name": "Python 3"
    },
    "language_info": {
      "name": "python"
    }
  },
  "cells": [
    {
      "cell_type": "markdown",
      "metadata": {
        "id": "view-in-github",
        "colab_type": "text"
      },
      "source": [
        "<a href=\"https://colab.research.google.com/github/AkashCreator/Pyspark/blob/main/Challenge_udemy.ipynb\" target=\"_parent\"><img src=\"https://colab.research.google.com/assets/colab-badge.svg\" alt=\"Open In Colab\"/></a>"
      ]
    },
    {
      "cell_type": "code",
      "execution_count": 1,
      "metadata": {
        "colab": {
          "base_uri": "https://localhost:8080/"
        },
        "id": "tQYeDCsuy8AX",
        "outputId": "cb6fa5c6-2fe7-426b-a774-f30a693befcc"
      },
      "outputs": [
        {
          "output_type": "stream",
          "name": "stdout",
          "text": [
            "Collecting pyspark\n",
            "  Downloading pyspark-3.4.1.tar.gz (310.8 MB)\n",
            "\u001b[2K     \u001b[90m━━━━━━━━━━━━━━━━━━━━━━━━━━━━━━━━━━━━━━━\u001b[0m \u001b[32m310.8/310.8 MB\u001b[0m \u001b[31m2.5 MB/s\u001b[0m eta \u001b[36m0:00:00\u001b[0m\n",
            "\u001b[?25h  Preparing metadata (setup.py) ... \u001b[?25l\u001b[?25hdone\n",
            "Requirement already satisfied: py4j==0.10.9.7 in /usr/local/lib/python3.10/dist-packages (from pyspark) (0.10.9.7)\n",
            "Building wheels for collected packages: pyspark\n",
            "  Building wheel for pyspark (setup.py) ... \u001b[?25l\u001b[?25hdone\n",
            "  Created wheel for pyspark: filename=pyspark-3.4.1-py2.py3-none-any.whl size=311285388 sha256=87d68f16ec2217b39c001f853a66a977f86f97a3fddfb49e85648a1b18203a03\n",
            "  Stored in directory: /root/.cache/pip/wheels/0d/77/a3/ff2f74cc9ab41f8f594dabf0579c2a7c6de920d584206e0834\n",
            "Successfully built pyspark\n",
            "Installing collected packages: pyspark\n",
            "Successfully installed pyspark-3.4.1\n"
          ]
        }
      ],
      "source": [
        "!pip install pyspark"
      ]
    },
    {
      "cell_type": "code",
      "source": [
        "#create the spark session and fetch data\n",
        "from pyspark.sql import SparkSession\n",
        "from pyspark.sql.functions import *\n",
        "from pyspark.sql.types import *\n",
        "spark=SparkSession.builder.enableHiveSupport().appName('MyChallenge').getOrCreate()\n",
        "spark\n",
        "\n"
      ],
      "metadata": {
        "colab": {
          "base_uri": "https://localhost:8080/",
          "height": 219
        },
        "id": "ZWxZbDXPzHQP",
        "outputId": "05b21201-5f7b-43b5-b5b3-f9f97f66e4ce"
      },
      "execution_count": 3,
      "outputs": [
        {
          "output_type": "execute_result",
          "data": {
            "text/plain": [
              "<pyspark.sql.session.SparkSession at 0x7e3cfbe68f40>"
            ],
            "text/html": [
              "\n",
              "            <div>\n",
              "                <p><b>SparkSession - hive</b></p>\n",
              "                \n",
              "        <div>\n",
              "            <p><b>SparkContext</b></p>\n",
              "\n",
              "            <p><a href=\"http://c42c0c837c6b:4040\">Spark UI</a></p>\n",
              "\n",
              "            <dl>\n",
              "              <dt>Version</dt>\n",
              "                <dd><code>v3.4.1</code></dd>\n",
              "              <dt>Master</dt>\n",
              "                <dd><code>local[*]</code></dd>\n",
              "              <dt>AppName</dt>\n",
              "                <dd><code>MyChallenge</code></dd>\n",
              "            </dl>\n",
              "        </div>\n",
              "        \n",
              "            </div>\n",
              "        "
            ]
          },
          "metadata": {},
          "execution_count": 3
        }
      ]
    },
    {
      "cell_type": "code",
      "source": [
        "ip_data1=spark.read.csv('./sample_data/challenge.csv',header=True,inferSchema=True)\n",
        "ip_data1.show()"
      ],
      "metadata": {
        "colab": {
          "base_uri": "https://localhost:8080/"
        },
        "id": "MLcRu47R0NwN",
        "outputId": "9afafdf0-54af-4118-c02b-03e1ac7d5304"
      },
      "execution_count": 8,
      "outputs": [
        {
          "output_type": "stream",
          "name": "stdout",
          "text": [
            "+---------------+--------------+-----------------+----------+\n",
            "|     ip_address|       Country|      Domain Name|Bytes_used|\n",
            "+---------------+--------------+-----------------+----------+\n",
            "|  52.81.192.172|         China| odnoklassniki.ru|       463|\n",
            "| 119.239.207.13|         China|         youtu.be|        51|\n",
            "|  68.69.217.210|         China|        adobe.com|        10|\n",
            "|   7.191.21.223|      Bulgaria|     linkedin.com|       853|\n",
            "|   211.13.10.68|     Indonesia|          hud.gov|        29|\n",
            "|   239.80.21.97|      Suriname|       smh.com.au|       218|\n",
            "|106.214.106.233|       Jamaica|    amazonaws.com|        95|\n",
            "| 127.242.24.138|         China| surveymonkey.com|       123|\n",
            "|     99.2.6.139|Czech Republic|     geocities.jp|       322|\n",
            "|   237.54.11.63|         China|       amazon.com|        83|\n",
            "| 252.141.157.25|         Japan|      cornell.edu|       374|\n",
            "|185.220.128.248|       Belgium|       weebly.com|       389|\n",
            "|   151.77.19.45|   Afghanistan|independent.co.uk|       282|\n",
            "|  9.161.158.225|     Indonesia|    bloglines.com|       726|\n",
            "| 156.144.61.155|Czech Republic|   slideshare.net|       657|\n",
            "|   8.96.188.151|     Indonesia|          ibm.com|       517|\n",
            "|      5.72.7.65|        Mexico|         youtu.be|       877|\n",
            "|227.110.112.144|       Croatia|         ehow.com|       287|\n",
            "|    81.71.28.97|      Thailand|          last.fm|       588|\n",
            "|  9.255.129.184|      Thailand|          mtv.com|       114|\n",
            "+---------------+--------------+-----------------+----------+\n",
            "only showing top 20 rows\n",
            "\n"
          ]
        }
      ]
    },
    {
      "cell_type": "code",
      "source": [
        "#list whether country is Mexico or not\n",
        "ip_data1=ip_data1.withColumn('IsMexico',when(ip_data1.Country=='Mexico','Yes').otherwise('No'))\n",
        "ip_data1.show()"
      ],
      "metadata": {
        "colab": {
          "base_uri": "https://localhost:8080/"
        },
        "id": "s2QPq-VG1MRs",
        "outputId": "4906b7c7-6bb9-45db-c6d0-c7a22e798796"
      },
      "execution_count": 9,
      "outputs": [
        {
          "output_type": "stream",
          "name": "stdout",
          "text": [
            "+---------------+--------------+-----------------+----------+--------+\n",
            "|     ip_address|       Country|      Domain Name|Bytes_used|IsMexico|\n",
            "+---------------+--------------+-----------------+----------+--------+\n",
            "|  52.81.192.172|         China| odnoklassniki.ru|       463|      No|\n",
            "| 119.239.207.13|         China|         youtu.be|        51|      No|\n",
            "|  68.69.217.210|         China|        adobe.com|        10|      No|\n",
            "|   7.191.21.223|      Bulgaria|     linkedin.com|       853|      No|\n",
            "|   211.13.10.68|     Indonesia|          hud.gov|        29|      No|\n",
            "|   239.80.21.97|      Suriname|       smh.com.au|       218|      No|\n",
            "|106.214.106.233|       Jamaica|    amazonaws.com|        95|      No|\n",
            "| 127.242.24.138|         China| surveymonkey.com|       123|      No|\n",
            "|     99.2.6.139|Czech Republic|     geocities.jp|       322|      No|\n",
            "|   237.54.11.63|         China|       amazon.com|        83|      No|\n",
            "| 252.141.157.25|         Japan|      cornell.edu|       374|      No|\n",
            "|185.220.128.248|       Belgium|       weebly.com|       389|      No|\n",
            "|   151.77.19.45|   Afghanistan|independent.co.uk|       282|      No|\n",
            "|  9.161.158.225|     Indonesia|    bloglines.com|       726|      No|\n",
            "| 156.144.61.155|Czech Republic|   slideshare.net|       657|      No|\n",
            "|   8.96.188.151|     Indonesia|          ibm.com|       517|      No|\n",
            "|      5.72.7.65|        Mexico|         youtu.be|       877|     Yes|\n",
            "|227.110.112.144|       Croatia|         ehow.com|       287|      No|\n",
            "|    81.71.28.97|      Thailand|          last.fm|       588|      No|\n",
            "|  9.255.129.184|      Thailand|          mtv.com|       114|      No|\n",
            "+---------------+--------------+-----------------+----------+--------+\n",
            "only showing top 20 rows\n",
            "\n"
          ]
        }
      ]
    },
    {
      "cell_type": "code",
      "source": [
        "ip_data1.write.csv('mexico1.csv',header=True)"
      ],
      "metadata": {
        "id": "IaKsRVlP1-u3"
      },
      "execution_count": 11,
      "outputs": []
    },
    {
      "cell_type": "code",
      "source": [
        "ip_data1.write.json('mexico.json')"
      ],
      "metadata": {
        "id": "vBnkkU7V2MDv"
      },
      "execution_count": 13,
      "outputs": []
    },
    {
      "cell_type": "code",
      "source": [
        "ip_data1.groupBy('IsMexico').sum('Bytes_used').withColumnRenamed('sum(Bytes_used)','Total_bytes').show()"
      ],
      "metadata": {
        "colab": {
          "base_uri": "https://localhost:8080/"
        },
        "id": "JVs2S9Zj3Vp9",
        "outputId": "11582b24-ffa7-42fa-edd6-3c14b02062b1"
      },
      "execution_count": 19,
      "outputs": [
        {
          "output_type": "stream",
          "name": "stdout",
          "text": [
            "+--------+-----------+\n",
            "|IsMexico|Total_bytes|\n",
            "+--------+-----------+\n",
            "|      No|     508076|\n",
            "|     Yes|       6293|\n",
            "+--------+-----------+\n",
            "\n"
          ]
        }
      ]
    },
    {
      "cell_type": "code",
      "source": [
        "import pyspark.sql.functions as sqlfunc\n",
        "ip_data2=ip_data1.groupBy('Country').agg(sqlfunc.countDistinct('ip_address').alias('Count_distinct_ip')).orderBy('Count_distinct_ip',ascending=False)"
      ],
      "metadata": {
        "id": "etCL5MmM4Tel"
      },
      "execution_count": 44,
      "outputs": []
    },
    {
      "cell_type": "code",
      "source": [
        "ip_data2.show()"
      ],
      "metadata": {
        "colab": {
          "base_uri": "https://localhost:8080/"
        },
        "id": "m3KP5ZXM5rsk",
        "outputId": "b353a47e-71f2-4431-bc48-c3b1e9229b00"
      },
      "execution_count": 45,
      "outputs": [
        {
          "output_type": "stream",
          "name": "stdout",
          "text": [
            "+--------------+-----------------+\n",
            "|       Country|Count_distinct_ip|\n",
            "+--------------+-----------------+\n",
            "|         China|              172|\n",
            "|     Indonesia|              114|\n",
            "|   Philippines|               65|\n",
            "|        Russia|               56|\n",
            "|        Brazil|               35|\n",
            "|        Poland|               31|\n",
            "|        Sweden|               28|\n",
            "|         Japan|               25|\n",
            "|Czech Republic|               23|\n",
            "|      Portugal|               23|\n",
            "|        France|               21|\n",
            "|          Peru|               19|\n",
            "|      Colombia|               17|\n",
            "| United States|               15|\n",
            "|     Argentina|               14|\n",
            "|       Ukraine|               14|\n",
            "|        Mexico|               13|\n",
            "|      Thailand|               12|\n",
            "|       Nigeria|               11|\n",
            "|        Canada|               11|\n",
            "+--------------+-----------------+\n",
            "only showing top 20 rows\n",
            "\n"
          ]
        }
      ]
    },
    {
      "cell_type": "code",
      "source": [],
      "metadata": {
        "id": "CzVfr7suC7Pq"
      },
      "execution_count": null,
      "outputs": []
    }
  ]
}