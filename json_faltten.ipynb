{
  "nbformat": 4,
  "nbformat_minor": 0,
  "metadata": {
    "colab": {
      "provenance": [],
      "authorship_tag": "ABX9TyPADOrGP6abILutGShvujkW",
      "include_colab_link": true
    },
    "kernelspec": {
      "name": "python3",
      "display_name": "Python 3"
    },
    "language_info": {
      "name": "python"
    }
  },
  "cells": [
    {
      "cell_type": "markdown",
      "metadata": {
        "id": "view-in-github",
        "colab_type": "text"
      },
      "source": [
        "<a href=\"https://colab.research.google.com/github/AkashCreator/Pyspark/blob/main/json_faltten.ipynb\" target=\"_parent\"><img src=\"https://colab.research.google.com/assets/colab-badge.svg\" alt=\"Open In Colab\"/></a>"
      ]
    },
    {
      "cell_type": "code",
      "execution_count": 1,
      "metadata": {
        "colab": {
          "base_uri": "https://localhost:8080/"
        },
        "id": "vDaB-P9soEtc",
        "outputId": "e77ed8b5-487a-4968-d227-20c14ba98199"
      },
      "outputs": [
        {
          "output_type": "stream",
          "name": "stdout",
          "text": [
            "Collecting pyspark\n",
            "  Downloading pyspark-3.4.1.tar.gz (310.8 MB)\n",
            "\u001b[2K     \u001b[90m━━━━━━━━━━━━━━━━━━━━━━━━━━━━━━━━━━━━━━━\u001b[0m \u001b[32m310.8/310.8 MB\u001b[0m \u001b[31m4.7 MB/s\u001b[0m eta \u001b[36m0:00:00\u001b[0m\n",
            "\u001b[?25h  Preparing metadata (setup.py) ... \u001b[?25l\u001b[?25hdone\n",
            "Requirement already satisfied: py4j==0.10.9.7 in /usr/local/lib/python3.10/dist-packages (from pyspark) (0.10.9.7)\n",
            "Building wheels for collected packages: pyspark\n",
            "  Building wheel for pyspark (setup.py) ... \u001b[?25l\u001b[?25hdone\n",
            "  Created wheel for pyspark: filename=pyspark-3.4.1-py2.py3-none-any.whl size=311285387 sha256=a44c74834c4fbdce51c8323c1decd700fb1ff6b19329d9a46f54bdd47ed725a2\n",
            "  Stored in directory: /root/.cache/pip/wheels/0d/77/a3/ff2f74cc9ab41f8f594dabf0579c2a7c6de920d584206e0834\n",
            "Successfully built pyspark\n",
            "Installing collected packages: pyspark\n",
            "Successfully installed pyspark-3.4.1\n"
          ]
        }
      ],
      "source": [
        "!pip install pyspark"
      ]
    },
    {
      "cell_type": "code",
      "source": [
        "from pyspark.sql import SparkSession\n",
        "from pyspark.sql.functions import *"
      ],
      "metadata": {
        "id": "UdAlbUZDoI8-"
      },
      "execution_count": 2,
      "outputs": []
    },
    {
      "cell_type": "code",
      "source": [
        "spark=SparkSession.builder.appName('Flatten-Json').enableHiveSupport().getOrCreate()\n",
        "spark"
      ],
      "metadata": {
        "colab": {
          "base_uri": "https://localhost:8080/",
          "height": 219
        },
        "id": "htRYd_mqpvjQ",
        "outputId": "6f4fcfd8-a1fd-4c12-bb9b-4eb853feb6ac"
      },
      "execution_count": 3,
      "outputs": [
        {
          "output_type": "execute_result",
          "data": {
            "text/plain": [
              "<pyspark.sql.session.SparkSession at 0x79b8ddfac0a0>"
            ],
            "text/html": [
              "\n",
              "            <div>\n",
              "                <p><b>SparkSession - hive</b></p>\n",
              "                \n",
              "        <div>\n",
              "            <p><b>SparkContext</b></p>\n",
              "\n",
              "            <p><a href=\"http://acb882e5ca6f:4040\">Spark UI</a></p>\n",
              "\n",
              "            <dl>\n",
              "              <dt>Version</dt>\n",
              "                <dd><code>v3.4.1</code></dd>\n",
              "              <dt>Master</dt>\n",
              "                <dd><code>local[*]</code></dd>\n",
              "              <dt>AppName</dt>\n",
              "                <dd><code>Flatten-Json</code></dd>\n",
              "            </dl>\n",
              "        </div>\n",
              "        \n",
              "            </div>\n",
              "        "
            ]
          },
          "metadata": {},
          "execution_count": 3
        }
      ]
    },
    {
      "cell_type": "code",
      "source": [
        "json_data=spark.read.json('./sample_data/newjson.json',multiLine=True)\n",
        "json_data.show(truncate=False)"
      ],
      "metadata": {
        "colab": {
          "base_uri": "https://localhost:8080/"
        },
        "id": "OnF-zE5lqDO_",
        "outputId": "88337028-b48d-4913-ea1e-6ce5fd1b065d"
      },
      "execution_count": 6,
      "outputs": [
        {
          "output_type": "stream",
          "name": "stdout",
          "text": [
            "+--------------------------------------------------+------------------------------------------------------+---+--------+------------------------------------------------------------------------------------+\n",
            "|address                                           |contacts                                              |id |name    |orders                                                                              |\n",
            "+--------------------------------------------------+------------------------------------------------------+---+--------+------------------------------------------------------------------------------------+\n",
            "|{New York, {40.7128, -74.006}, 123 Main St, 10001}|[{email, john.doe@example.com}, {phone, 555-123-4567}]|1  |John Doe|[{[{Widget, 2}, {Gadget, 1}], A123, 50.0}, {[{Widget, 3}, {Widget, 1}], B456, 75.0}]|\n",
            "+--------------------------------------------------+------------------------------------------------------+---+--------+------------------------------------------------------------------------------------+\n",
            "\n"
          ]
        }
      ]
    },
    {
      "cell_type": "code",
      "source": [
        "json_data=json_data.withColumn('city',json_data.address.city)\\\n",
        "          .withColumn('street',json_data.address.street)\\\n",
        "          .withColumn('zipcode',json_data.address.zipcode)\\\n",
        "          .withColumn('latitude',json_data.address.coordinates.latitude)\\\n",
        "          .withColumn('longitude',json_data.address.coordinates.longitude)\n",
        "json_data.show(truncate=False)"
      ],
      "metadata": {
        "colab": {
          "base_uri": "https://localhost:8080/"
        },
        "id": "T0-9Y2WurgDQ",
        "outputId": "f32af2e9-c9a3-4075-d00e-9914a7449a8d"
      },
      "execution_count": 15,
      "outputs": [
        {
          "output_type": "stream",
          "name": "stdout",
          "text": [
            "+--------------------------------------------------+------------------------------------------------------+---+--------+------------------------------------------------------------------------------------+--------+-----------+-------+--------+---------+\n",
            "|address                                           |contacts                                              |id |name    |orders                                                                              |city    |street     |zipcode|latitude|longitude|\n",
            "+--------------------------------------------------+------------------------------------------------------+---+--------+------------------------------------------------------------------------------------+--------+-----------+-------+--------+---------+\n",
            "|{New York, {40.7128, -74.006}, 123 Main St, 10001}|[{email, john.doe@example.com}, {phone, 555-123-4567}]|1  |John Doe|[{[{Widget, 2}, {Gadget, 1}], A123, 50.0}, {[{Widget, 3}, {Widget, 1}], B456, 75.0}]|New York|123 Main St|10001  |40.7128 |-74.006  |\n",
            "+--------------------------------------------------+------------------------------------------------------+---+--------+------------------------------------------------------------------------------------+--------+-----------+-------+--------+---------+\n",
            "\n"
          ]
        }
      ]
    },
    {
      "cell_type": "code",
      "source": [
        "json_data=json_data.withColumn('contacts',explode(json_data.contacts))\n",
        "json_data.show(truncate=False)\n",
        ""
      ],
      "metadata": {
        "colab": {
          "base_uri": "https://localhost:8080/"
        },
        "id": "bMCW20AAyGRg",
        "outputId": "ee425cb0-08af-4a7b-909f-01eeaef09ffa"
      },
      "execution_count": 16,
      "outputs": [
        {
          "output_type": "stream",
          "name": "stdout",
          "text": [
            "+--------------------------------------------------+-----------------------------+---+--------+------------------------------------------------------------------------------------+--------+-----------+-------+--------+---------+\n",
            "|address                                           |contacts                     |id |name    |orders                                                                              |city    |street     |zipcode|latitude|longitude|\n",
            "+--------------------------------------------------+-----------------------------+---+--------+------------------------------------------------------------------------------------+--------+-----------+-------+--------+---------+\n",
            "|{New York, {40.7128, -74.006}, 123 Main St, 10001}|{email, john.doe@example.com}|1  |John Doe|[{[{Widget, 2}, {Gadget, 1}], A123, 50.0}, {[{Widget, 3}, {Widget, 1}], B456, 75.0}]|New York|123 Main St|10001  |40.7128 |-74.006  |\n",
            "|{New York, {40.7128, -74.006}, 123 Main St, 10001}|{phone, 555-123-4567}        |1  |John Doe|[{[{Widget, 2}, {Gadget, 1}], A123, 50.0}, {[{Widget, 3}, {Widget, 1}], B456, 75.0}]|New York|123 Main St|10001  |40.7128 |-74.006  |\n",
            "+--------------------------------------------------+-----------------------------+---+--------+------------------------------------------------------------------------------------+--------+-----------+-------+--------+---------+\n",
            "\n"
          ]
        }
      ]
    },
    {
      "cell_type": "code",
      "source": [
        "json_data=json_data.withColumn('type',json_data.contacts.getItem('type'))\\\n",
        "                    .withColumn('value',json_data.contacts.getItem('value'))\n",
        "json_data.show(truncate=False)"
      ],
      "metadata": {
        "colab": {
          "base_uri": "https://localhost:8080/"
        },
        "id": "BlaYH6PREsmE",
        "outputId": "149895f6-5141-40e8-f51a-23b96d08515f"
      },
      "execution_count": 17,
      "outputs": [
        {
          "output_type": "stream",
          "name": "stdout",
          "text": [
            "+--------------------------------------------------+-----------------------------+---+--------+------------------------------------------------------------------------------------+--------+-----------+-------+--------+---------+-----+--------------------+\n",
            "|address                                           |contacts                     |id |name    |orders                                                                              |city    |street     |zipcode|latitude|longitude|type |value               |\n",
            "+--------------------------------------------------+-----------------------------+---+--------+------------------------------------------------------------------------------------+--------+-----------+-------+--------+---------+-----+--------------------+\n",
            "|{New York, {40.7128, -74.006}, 123 Main St, 10001}|{email, john.doe@example.com}|1  |John Doe|[{[{Widget, 2}, {Gadget, 1}], A123, 50.0}, {[{Widget, 3}, {Widget, 1}], B456, 75.0}]|New York|123 Main St|10001  |40.7128 |-74.006  |email|john.doe@example.com|\n",
            "|{New York, {40.7128, -74.006}, 123 Main St, 10001}|{phone, 555-123-4567}        |1  |John Doe|[{[{Widget, 2}, {Gadget, 1}], A123, 50.0}, {[{Widget, 3}, {Widget, 1}], B456, 75.0}]|New York|123 Main St|10001  |40.7128 |-74.006  |phone|555-123-4567        |\n",
            "+--------------------------------------------------+-----------------------------+---+--------+------------------------------------------------------------------------------------+--------+-----------+-------+--------+---------+-----+--------------------+\n",
            "\n"
          ]
        }
      ]
    },
    {
      "cell_type": "code",
      "source": [
        "json_data.dtypes"
      ],
      "metadata": {
        "colab": {
          "base_uri": "https://localhost:8080/"
        },
        "id": "lDICM-_3FQ29",
        "outputId": "906dc977-ae94-43d9-cc63-dbe6aa9fc8b3"
      },
      "execution_count": 18,
      "outputs": [
        {
          "output_type": "execute_result",
          "data": {
            "text/plain": [
              "[('address',\n",
              "  'struct<city:string,coordinates:struct<latitude:double,longitude:double>,street:string,zipcode:string>'),\n",
              " ('contacts', 'struct<type:string,value:string>'),\n",
              " ('id', 'bigint'),\n",
              " ('name', 'string'),\n",
              " ('orders',\n",
              "  'array<struct<items:array<struct<product:string,quantity:bigint>>,order_id:string,total:double>>'),\n",
              " ('city', 'string'),\n",
              " ('street', 'string'),\n",
              " ('zipcode', 'string'),\n",
              " ('latitude', 'double'),\n",
              " ('longitude', 'double'),\n",
              " ('type', 'string'),\n",
              " ('value', 'string')]"
            ]
          },
          "metadata": {},
          "execution_count": 18
        }
      ]
    },
    {
      "cell_type": "code",
      "source": [
        "json_data=json_data.withColumn('Orders',explode(json_data.orders))\n",
        "json_data.show(truncate=False)"
      ],
      "metadata": {
        "colab": {
          "base_uri": "https://localhost:8080/"
        },
        "id": "e7EWvInlFW6N",
        "outputId": "0515c170-b12e-4bec-eec5-7bb47ba66782"
      },
      "execution_count": 20,
      "outputs": [
        {
          "output_type": "stream",
          "name": "stdout",
          "text": [
            "+--------------------------------------------------+-----------------------------+---+--------+----------------------------------------+--------+-----------+-------+--------+---------+-----+--------------------+\n",
            "|address                                           |contacts                     |id |name    |Orders                                  |city    |street     |zipcode|latitude|longitude|type |value               |\n",
            "+--------------------------------------------------+-----------------------------+---+--------+----------------------------------------+--------+-----------+-------+--------+---------+-----+--------------------+\n",
            "|{New York, {40.7128, -74.006}, 123 Main St, 10001}|{email, john.doe@example.com}|1  |John Doe|{[{Widget, 2}, {Gadget, 1}], A123, 50.0}|New York|123 Main St|10001  |40.7128 |-74.006  |email|john.doe@example.com|\n",
            "|{New York, {40.7128, -74.006}, 123 Main St, 10001}|{email, john.doe@example.com}|1  |John Doe|{[{Widget, 3}, {Widget, 1}], B456, 75.0}|New York|123 Main St|10001  |40.7128 |-74.006  |email|john.doe@example.com|\n",
            "|{New York, {40.7128, -74.006}, 123 Main St, 10001}|{phone, 555-123-4567}        |1  |John Doe|{[{Widget, 2}, {Gadget, 1}], A123, 50.0}|New York|123 Main St|10001  |40.7128 |-74.006  |phone|555-123-4567        |\n",
            "|{New York, {40.7128, -74.006}, 123 Main St, 10001}|{phone, 555-123-4567}        |1  |John Doe|{[{Widget, 3}, {Widget, 1}], B456, 75.0}|New York|123 Main St|10001  |40.7128 |-74.006  |phone|555-123-4567        |\n",
            "+--------------------------------------------------+-----------------------------+---+--------+----------------------------------------+--------+-----------+-------+--------+---------+-----+--------------------+\n",
            "\n"
          ]
        }
      ]
    },
    {
      "cell_type": "code",
      "source": [
        "json_data=json_data.withColumn('order_id',json_data.Orders.getItem('order_id'))\\\n",
        "                    .withColumn('total',json_data.Orders.getItem('total'))\\\n",
        "                    .withColumn('items',json_data.Orders.getItem('items'))\n",
        "json_data.show(truncate=False)"
      ],
      "metadata": {
        "colab": {
          "base_uri": "https://localhost:8080/"
        },
        "id": "6DTDfZgiFw00",
        "outputId": "1b3cb9d8-af89-43cd-e5e8-ec4070fc85e7"
      },
      "execution_count": 22,
      "outputs": [
        {
          "output_type": "stream",
          "name": "stdout",
          "text": [
            "+--------------------------------------------------+-----------------------------+---+--------+----------------------------------------+--------+-----------+-------+--------+---------+-----+--------------------+--------+-----+--------------------------+\n",
            "|address                                           |contacts                     |id |name    |Orders                                  |city    |street     |zipcode|latitude|longitude|type |value               |order_id|total|items                     |\n",
            "+--------------------------------------------------+-----------------------------+---+--------+----------------------------------------+--------+-----------+-------+--------+---------+-----+--------------------+--------+-----+--------------------------+\n",
            "|{New York, {40.7128, -74.006}, 123 Main St, 10001}|{email, john.doe@example.com}|1  |John Doe|{[{Widget, 2}, {Gadget, 1}], A123, 50.0}|New York|123 Main St|10001  |40.7128 |-74.006  |email|john.doe@example.com|A123    |50.0 |[{Widget, 2}, {Gadget, 1}]|\n",
            "|{New York, {40.7128, -74.006}, 123 Main St, 10001}|{email, john.doe@example.com}|1  |John Doe|{[{Widget, 3}, {Widget, 1}], B456, 75.0}|New York|123 Main St|10001  |40.7128 |-74.006  |email|john.doe@example.com|B456    |75.0 |[{Widget, 3}, {Widget, 1}]|\n",
            "|{New York, {40.7128, -74.006}, 123 Main St, 10001}|{phone, 555-123-4567}        |1  |John Doe|{[{Widget, 2}, {Gadget, 1}], A123, 50.0}|New York|123 Main St|10001  |40.7128 |-74.006  |phone|555-123-4567        |A123    |50.0 |[{Widget, 2}, {Gadget, 1}]|\n",
            "|{New York, {40.7128, -74.006}, 123 Main St, 10001}|{phone, 555-123-4567}        |1  |John Doe|{[{Widget, 3}, {Widget, 1}], B456, 75.0}|New York|123 Main St|10001  |40.7128 |-74.006  |phone|555-123-4567        |B456    |75.0 |[{Widget, 3}, {Widget, 1}]|\n",
            "+--------------------------------------------------+-----------------------------+---+--------+----------------------------------------+--------+-----------+-------+--------+---------+-----+--------------------+--------+-----+--------------------------+\n",
            "\n"
          ]
        }
      ]
    },
    {
      "cell_type": "code",
      "source": [
        "json_data=json_data.withColumn('items',explode(json_data.Orders.items))"
      ],
      "metadata": {
        "id": "Zc2wvYTqG5mB"
      },
      "execution_count": 24,
      "outputs": []
    },
    {
      "cell_type": "code",
      "source": [
        "json_data.show(truncate=False)"
      ],
      "metadata": {
        "colab": {
          "base_uri": "https://localhost:8080/"
        },
        "id": "YxS_4OPAHSfT",
        "outputId": "f71e4dfe-4168-4d37-9529-0db347f47567"
      },
      "execution_count": 25,
      "outputs": [
        {
          "output_type": "stream",
          "name": "stdout",
          "text": [
            "+--------------------------------------------------+-----------------------------+---+--------+----------------------------------------+--------+-----------+-------+--------+---------+-----+--------------------+--------+-----+-----------+\n",
            "|address                                           |contacts                     |id |name    |Orders                                  |city    |street     |zipcode|latitude|longitude|type |value               |order_id|total|items      |\n",
            "+--------------------------------------------------+-----------------------------+---+--------+----------------------------------------+--------+-----------+-------+--------+---------+-----+--------------------+--------+-----+-----------+\n",
            "|{New York, {40.7128, -74.006}, 123 Main St, 10001}|{email, john.doe@example.com}|1  |John Doe|{[{Widget, 2}, {Gadget, 1}], A123, 50.0}|New York|123 Main St|10001  |40.7128 |-74.006  |email|john.doe@example.com|A123    |50.0 |{Widget, 2}|\n",
            "|{New York, {40.7128, -74.006}, 123 Main St, 10001}|{email, john.doe@example.com}|1  |John Doe|{[{Widget, 2}, {Gadget, 1}], A123, 50.0}|New York|123 Main St|10001  |40.7128 |-74.006  |email|john.doe@example.com|A123    |50.0 |{Gadget, 1}|\n",
            "|{New York, {40.7128, -74.006}, 123 Main St, 10001}|{email, john.doe@example.com}|1  |John Doe|{[{Widget, 3}, {Widget, 1}], B456, 75.0}|New York|123 Main St|10001  |40.7128 |-74.006  |email|john.doe@example.com|B456    |75.0 |{Widget, 3}|\n",
            "|{New York, {40.7128, -74.006}, 123 Main St, 10001}|{email, john.doe@example.com}|1  |John Doe|{[{Widget, 3}, {Widget, 1}], B456, 75.0}|New York|123 Main St|10001  |40.7128 |-74.006  |email|john.doe@example.com|B456    |75.0 |{Widget, 1}|\n",
            "|{New York, {40.7128, -74.006}, 123 Main St, 10001}|{phone, 555-123-4567}        |1  |John Doe|{[{Widget, 2}, {Gadget, 1}], A123, 50.0}|New York|123 Main St|10001  |40.7128 |-74.006  |phone|555-123-4567        |A123    |50.0 |{Widget, 2}|\n",
            "|{New York, {40.7128, -74.006}, 123 Main St, 10001}|{phone, 555-123-4567}        |1  |John Doe|{[{Widget, 2}, {Gadget, 1}], A123, 50.0}|New York|123 Main St|10001  |40.7128 |-74.006  |phone|555-123-4567        |A123    |50.0 |{Gadget, 1}|\n",
            "|{New York, {40.7128, -74.006}, 123 Main St, 10001}|{phone, 555-123-4567}        |1  |John Doe|{[{Widget, 3}, {Widget, 1}], B456, 75.0}|New York|123 Main St|10001  |40.7128 |-74.006  |phone|555-123-4567        |B456    |75.0 |{Widget, 3}|\n",
            "|{New York, {40.7128, -74.006}, 123 Main St, 10001}|{phone, 555-123-4567}        |1  |John Doe|{[{Widget, 3}, {Widget, 1}], B456, 75.0}|New York|123 Main St|10001  |40.7128 |-74.006  |phone|555-123-4567        |B456    |75.0 |{Widget, 1}|\n",
            "+--------------------------------------------------+-----------------------------+---+--------+----------------------------------------+--------+-----------+-------+--------+---------+-----+--------------------+--------+-----+-----------+\n",
            "\n"
          ]
        }
      ]
    },
    {
      "cell_type": "code",
      "source": [
        "json_data=json_data.withColumn('product',json_data.items.getItem('product'))\\\n",
        "                    .withColumn('quantity',json_data.items.getItem('quantity'))\n",
        "json_data.show(truncate=False)"
      ],
      "metadata": {
        "colab": {
          "base_uri": "https://localhost:8080/"
        },
        "id": "MWRr9fJJHYsv",
        "outputId": "dd99566c-bd46-46fc-924b-2bf1ce005619"
      },
      "execution_count": 26,
      "outputs": [
        {
          "output_type": "stream",
          "name": "stdout",
          "text": [
            "+--------------------------------------------------+-----------------------------+---+--------+----------------------------------------+--------+-----------+-------+--------+---------+-----+--------------------+--------+-----+-----------+-------+--------+\n",
            "|address                                           |contacts                     |id |name    |Orders                                  |city    |street     |zipcode|latitude|longitude|type |value               |order_id|total|items      |product|quantity|\n",
            "+--------------------------------------------------+-----------------------------+---+--------+----------------------------------------+--------+-----------+-------+--------+---------+-----+--------------------+--------+-----+-----------+-------+--------+\n",
            "|{New York, {40.7128, -74.006}, 123 Main St, 10001}|{email, john.doe@example.com}|1  |John Doe|{[{Widget, 2}, {Gadget, 1}], A123, 50.0}|New York|123 Main St|10001  |40.7128 |-74.006  |email|john.doe@example.com|A123    |50.0 |{Widget, 2}|Widget |2       |\n",
            "|{New York, {40.7128, -74.006}, 123 Main St, 10001}|{email, john.doe@example.com}|1  |John Doe|{[{Widget, 2}, {Gadget, 1}], A123, 50.0}|New York|123 Main St|10001  |40.7128 |-74.006  |email|john.doe@example.com|A123    |50.0 |{Gadget, 1}|Gadget |1       |\n",
            "|{New York, {40.7128, -74.006}, 123 Main St, 10001}|{email, john.doe@example.com}|1  |John Doe|{[{Widget, 3}, {Widget, 1}], B456, 75.0}|New York|123 Main St|10001  |40.7128 |-74.006  |email|john.doe@example.com|B456    |75.0 |{Widget, 3}|Widget |3       |\n",
            "|{New York, {40.7128, -74.006}, 123 Main St, 10001}|{email, john.doe@example.com}|1  |John Doe|{[{Widget, 3}, {Widget, 1}], B456, 75.0}|New York|123 Main St|10001  |40.7128 |-74.006  |email|john.doe@example.com|B456    |75.0 |{Widget, 1}|Widget |1       |\n",
            "|{New York, {40.7128, -74.006}, 123 Main St, 10001}|{phone, 555-123-4567}        |1  |John Doe|{[{Widget, 2}, {Gadget, 1}], A123, 50.0}|New York|123 Main St|10001  |40.7128 |-74.006  |phone|555-123-4567        |A123    |50.0 |{Widget, 2}|Widget |2       |\n",
            "|{New York, {40.7128, -74.006}, 123 Main St, 10001}|{phone, 555-123-4567}        |1  |John Doe|{[{Widget, 2}, {Gadget, 1}], A123, 50.0}|New York|123 Main St|10001  |40.7128 |-74.006  |phone|555-123-4567        |A123    |50.0 |{Gadget, 1}|Gadget |1       |\n",
            "|{New York, {40.7128, -74.006}, 123 Main St, 10001}|{phone, 555-123-4567}        |1  |John Doe|{[{Widget, 3}, {Widget, 1}], B456, 75.0}|New York|123 Main St|10001  |40.7128 |-74.006  |phone|555-123-4567        |B456    |75.0 |{Widget, 3}|Widget |3       |\n",
            "|{New York, {40.7128, -74.006}, 123 Main St, 10001}|{phone, 555-123-4567}        |1  |John Doe|{[{Widget, 3}, {Widget, 1}], B456, 75.0}|New York|123 Main St|10001  |40.7128 |-74.006  |phone|555-123-4567        |B456    |75.0 |{Widget, 1}|Widget |1       |\n",
            "+--------------------------------------------------+-----------------------------+---+--------+----------------------------------------+--------+-----------+-------+--------+---------+-----+--------------------+--------+-----+-----------+-------+--------+\n",
            "\n"
          ]
        }
      ]
    },
    {
      "cell_type": "code",
      "source": [
        "json_data=json_data.select('id','name','city','street','zipcode','latitude','longitude','type','value','order_id',\\\n",
        "                           'total','product','quantity')"
      ],
      "metadata": {
        "id": "uqqtQvPgHzHn"
      },
      "execution_count": 27,
      "outputs": []
    },
    {
      "cell_type": "code",
      "source": [
        "json_data.show()"
      ],
      "metadata": {
        "colab": {
          "base_uri": "https://localhost:8080/"
        },
        "id": "IDaXvp8hIZYd",
        "outputId": "b46115a6-f8b5-4f8b-9b2e-d0cc2d37055e"
      },
      "execution_count": 28,
      "outputs": [
        {
          "output_type": "stream",
          "name": "stdout",
          "text": [
            "+---+--------+--------+-----------+-------+--------+---------+-----+--------------------+--------+-----+-------+--------+\n",
            "| id|    name|    city|     street|zipcode|latitude|longitude| type|               value|order_id|total|product|quantity|\n",
            "+---+--------+--------+-----------+-------+--------+---------+-----+--------------------+--------+-----+-------+--------+\n",
            "|  1|John Doe|New York|123 Main St|  10001| 40.7128|  -74.006|email|john.doe@example.com|    A123| 50.0| Widget|       2|\n",
            "|  1|John Doe|New York|123 Main St|  10001| 40.7128|  -74.006|email|john.doe@example.com|    A123| 50.0| Gadget|       1|\n",
            "|  1|John Doe|New York|123 Main St|  10001| 40.7128|  -74.006|email|john.doe@example.com|    B456| 75.0| Widget|       3|\n",
            "|  1|John Doe|New York|123 Main St|  10001| 40.7128|  -74.006|email|john.doe@example.com|    B456| 75.0| Widget|       1|\n",
            "|  1|John Doe|New York|123 Main St|  10001| 40.7128|  -74.006|phone|        555-123-4567|    A123| 50.0| Widget|       2|\n",
            "|  1|John Doe|New York|123 Main St|  10001| 40.7128|  -74.006|phone|        555-123-4567|    A123| 50.0| Gadget|       1|\n",
            "|  1|John Doe|New York|123 Main St|  10001| 40.7128|  -74.006|phone|        555-123-4567|    B456| 75.0| Widget|       3|\n",
            "|  1|John Doe|New York|123 Main St|  10001| 40.7128|  -74.006|phone|        555-123-4567|    B456| 75.0| Widget|       1|\n",
            "+---+--------+--------+-----------+-------+--------+---------+-----+--------------------+--------+-----+-------+--------+\n",
            "\n"
          ]
        }
      ]
    },
    {
      "cell_type": "code",
      "source": [],
      "metadata": {
        "id": "JPygxcUiIcLQ"
      },
      "execution_count": null,
      "outputs": []
    }
  ]
}